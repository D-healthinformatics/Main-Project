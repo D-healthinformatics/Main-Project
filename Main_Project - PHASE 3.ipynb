{
 "cells": [
  {
   "cell_type": "markdown",
   "id": "33a2eb8b-c65b-4b12-afef-3de1d20df58a",
   "metadata": {},
   "source": [
    "<h1 style=\"color:navy; text-align:center;\">Uncovering Cancer Trends in England: A Decade of NHS Insights</h1>\n"
   ]
  },
  {
   "cell_type": "markdown",
   "id": "d2822871-8464-4e23-a6bc-7640da1f746f",
   "metadata": {},
   "source": [
    "## 📖 Introduction"
   ]
  },
  {
   "cell_type": "markdown",
   "id": "92bb5303-d1c8-4815-8397-e448d6eb66d7",
   "metadata": {},
   "source": [
    "Cancer remains one of the most significant health challenges in England, affecting thousands of individuals each year. The NHS collects comprehensive data on cancer diagnoses, which provides valuable insights into patterns and trends across the population. This project analyzes NHS cancer statistics from 2013 to 2022, with a focus on factors such as cancer type, stage at diagnosis, gender, and the distribution of cases among different population groups. By examining these patterns, the project aims to understand how cancer incidence varies across the population and how it has evolved over the past decade. While the primary goal is to gain a deeper understanding of cancer trends, the insights generated could also help inform NHS strategies related to early detection, prevention, and improving patient outcomes. Through this analysis, the project seeks to uncover important trends, highlight areas of concern, and provide a data-driven perspective on how cancer impacts various segments of the population."
   ]
  },
  {
   "cell_type": "markdown",
   "id": "8ba90cca-8860-430b-b801-805afe53aa7c",
   "metadata": {},
   "source": [
    "## 🎯 Aim "
   ]
  },
  {
   "cell_type": "markdown",
   "id": "63882626-f119-4d17-97e1-6bf616e725fb",
   "metadata": {},
   "source": [
    "To analyze NHS cancer statistics from 2013 to 2022 in order to understand the distribution and trends of cancer incidence across different population groups, considering factors such as cancer type, stage at diagnosis, and gender, and to generate insights that could support a better understanding of how cancer affects the population."
   ]
  },
  {
   "cell_type": "markdown",
   "id": "ec188d07-e611-4ac1-a760-7d7a007cb4d8",
   "metadata": {},
   "source": [
    "## 🏥 Objective"
   ]
  },
  {
   "cell_type": "markdown",
   "id": "841da5cd-71c2-4536-a7f4-19f1f6254835",
   "metadata": {},
   "source": [
    "1. To explore and describe trends in cancer incidence over the past decade.\n",
    "\n",
    "2. To examine the distribution of different cancer types among various population groups.\n",
    "\n",
    "3. To analyze differences in cancer incidence between genders.\n",
    "\n",
    "4. To identify population groups that may be disproportionately affected by cancer.\n",
    "\n",
    "5. To provide visualizations and data-driven insights that help understand the overall cancer landscape in England."
   ]
  },
  {
   "cell_type": "markdown",
   "id": "62533c74-7021-43ec-975b-53c468e2fedc",
   "metadata": {},
   "source": [
    "## 💡Data Snapshot: Overview of the Data"
   ]
  },
  {
   "cell_type": "code",
   "execution_count": 3,
   "id": "75cd8cf6-45e4-42a7-9698-9aef1e6552c3",
   "metadata": {},
   "outputs": [],
   "source": [
    "import pandas as pd\n",
    "import numpy as np"
   ]
  },
  {
   "cell_type": "code",
   "execution_count": 4,
   "id": "702e0e97-29ac-4669-9a90-2c06bc79004e",
   "metadata": {},
   "outputs": [
    {
     "name": "stderr",
     "output_type": "stream",
     "text": [
      "C:\\Users\\Lenovo\\AppData\\Local\\Temp\\ipykernel_18032\\3578574885.py:1: DtypeWarning: Columns (8,9) have mixed types. Specify dtype option on import or set low_memory=False.\n",
      "  df = pd.read_csv(r\"C:\\Users\\Lenovo\\OneDrive\\Desktop\\Project\\NHS_CancerData.csv\")\n"
     ]
    }
   ],
   "source": [
    "df = pd.read_csv(r\"C:\\Users\\Lenovo\\OneDrive\\Desktop\\Project\\NHS_CancerData.csv\")"
   ]
  },
  {
   "cell_type": "code",
   "execution_count": 5,
   "id": "12118ab9-d8df-49be-8d1e-5d4b9fb3185e",
   "metadata": {},
   "outputs": [
    {
     "data": {
      "text/html": [
       "<div>\n",
       "<style scoped>\n",
       "    .dataframe tbody tr th:only-of-type {\n",
       "        vertical-align: middle;\n",
       "    }\n",
       "\n",
       "    .dataframe tbody tr th {\n",
       "        vertical-align: top;\n",
       "    }\n",
       "\n",
       "    .dataframe thead th {\n",
       "        text-align: right;\n",
       "    }\n",
       "</style>\n",
       "<table border=\"1\" class=\"dataframe\">\n",
       "  <thead>\n",
       "    <tr style=\"text-align: right;\">\n",
       "      <th></th>\n",
       "      <th>diagnosisyear</th>\n",
       "      <th>geography_type</th>\n",
       "      <th>geography_code</th>\n",
       "      <th>geography_name</th>\n",
       "      <th>ndrs_main_group</th>\n",
       "      <th>ndrs_detailed_group</th>\n",
       "      <th>stage_at_diagnosis</th>\n",
       "      <th>imd_quintile</th>\n",
       "      <th>hormone_receptor</th>\n",
       "      <th>hormone_receptor_status</th>\n",
       "      <th>gender</th>\n",
       "      <th>age_at_diagnosis</th>\n",
       "      <th>count</th>\n",
       "      <th>Population</th>\n",
       "      <th>type_of_rate</th>\n",
       "      <th>rate</th>\n",
       "      <th>lower_confidence_interval</th>\n",
       "      <th>upper_confidence_interval</th>\n",
       "      <th>flag</th>\n",
       "    </tr>\n",
       "  </thead>\n",
       "  <tbody>\n",
       "    <tr>\n",
       "      <th>0</th>\n",
       "      <td>2013</td>\n",
       "      <td>Country</td>\n",
       "      <td>E92000001</td>\n",
       "      <td>England</td>\n",
       "      <td>Anus</td>\n",
       "      <td>All Anus</td>\n",
       "      <td>All stages</td>\n",
       "      <td>All quintiles</td>\n",
       "      <td>NaN</td>\n",
       "      <td>NaN</td>\n",
       "      <td>Persons</td>\n",
       "      <td>All ages</td>\n",
       "      <td>1057</td>\n",
       "      <td>53918686</td>\n",
       "      <td>Age-standardised</td>\n",
       "      <td>2.1</td>\n",
       "      <td>2.0</td>\n",
       "      <td>2.3</td>\n",
       "      <td>NaN</td>\n",
       "    </tr>\n",
       "    <tr>\n",
       "      <th>1</th>\n",
       "      <td>2013</td>\n",
       "      <td>Country</td>\n",
       "      <td>E92000001</td>\n",
       "      <td>England</td>\n",
       "      <td>Anus</td>\n",
       "      <td>All Anus</td>\n",
       "      <td>All stages</td>\n",
       "      <td>All quintiles</td>\n",
       "      <td>NaN</td>\n",
       "      <td>NaN</td>\n",
       "      <td>Females</td>\n",
       "      <td>All ages</td>\n",
       "      <td>668</td>\n",
       "      <td>27410034</td>\n",
       "      <td>Age-standardised</td>\n",
       "      <td>2.6</td>\n",
       "      <td>2.4</td>\n",
       "      <td>2.8</td>\n",
       "      <td>NaN</td>\n",
       "    </tr>\n",
       "    <tr>\n",
       "      <th>2</th>\n",
       "      <td>2013</td>\n",
       "      <td>Country</td>\n",
       "      <td>E92000001</td>\n",
       "      <td>England</td>\n",
       "      <td>Anus</td>\n",
       "      <td>All Anus</td>\n",
       "      <td>All stages</td>\n",
       "      <td>All quintiles</td>\n",
       "      <td>NaN</td>\n",
       "      <td>NaN</td>\n",
       "      <td>Males</td>\n",
       "      <td>All ages</td>\n",
       "      <td>389</td>\n",
       "      <td>26508652</td>\n",
       "      <td>Age-standardised</td>\n",
       "      <td>1.7</td>\n",
       "      <td>1.5</td>\n",
       "      <td>1.9</td>\n",
       "      <td>NaN</td>\n",
       "    </tr>\n",
       "    <tr>\n",
       "      <th>3</th>\n",
       "      <td>2013</td>\n",
       "      <td>Country</td>\n",
       "      <td>E92000001</td>\n",
       "      <td>England</td>\n",
       "      <td>Anus</td>\n",
       "      <td>All Anus</td>\n",
       "      <td>All stages</td>\n",
       "      <td>1 - most deprived</td>\n",
       "      <td>NaN</td>\n",
       "      <td>NaN</td>\n",
       "      <td>Persons</td>\n",
       "      <td>All ages</td>\n",
       "      <td>232</td>\n",
       "      <td>10887630</td>\n",
       "      <td>Age-standardised</td>\n",
       "      <td>2.8</td>\n",
       "      <td>2.5</td>\n",
       "      <td>3.2</td>\n",
       "      <td>NaN</td>\n",
       "    </tr>\n",
       "    <tr>\n",
       "      <th>4</th>\n",
       "      <td>2013</td>\n",
       "      <td>Country</td>\n",
       "      <td>E92000001</td>\n",
       "      <td>England</td>\n",
       "      <td>Anus</td>\n",
       "      <td>All Anus</td>\n",
       "      <td>All stages</td>\n",
       "      <td>2</td>\n",
       "      <td>NaN</td>\n",
       "      <td>NaN</td>\n",
       "      <td>Persons</td>\n",
       "      <td>All ages</td>\n",
       "      <td>219</td>\n",
       "      <td>10952016</td>\n",
       "      <td>Age-standardised</td>\n",
       "      <td>2.5</td>\n",
       "      <td>2.2</td>\n",
       "      <td>2.8</td>\n",
       "      <td>NaN</td>\n",
       "    </tr>\n",
       "  </tbody>\n",
       "</table>\n",
       "</div>"
      ],
      "text/plain": [
       "   diagnosisyear geography_type geography_code geography_name ndrs_main_group  \\\n",
       "0           2013        Country      E92000001        England            Anus   \n",
       "1           2013        Country      E92000001        England            Anus   \n",
       "2           2013        Country      E92000001        England            Anus   \n",
       "3           2013        Country      E92000001        England            Anus   \n",
       "4           2013        Country      E92000001        England            Anus   \n",
       "\n",
       "  ndrs_detailed_group stage_at_diagnosis       imd_quintile hormone_receptor  \\\n",
       "0            All Anus         All stages      All quintiles              NaN   \n",
       "1            All Anus         All stages      All quintiles              NaN   \n",
       "2            All Anus         All stages      All quintiles              NaN   \n",
       "3            All Anus         All stages  1 - most deprived              NaN   \n",
       "4            All Anus         All stages                  2              NaN   \n",
       "\n",
       "  hormone_receptor_status   gender age_at_diagnosis  count  Population  \\\n",
       "0                     NaN  Persons         All ages   1057    53918686   \n",
       "1                     NaN  Females         All ages    668    27410034   \n",
       "2                     NaN    Males         All ages    389    26508652   \n",
       "3                     NaN  Persons         All ages    232    10887630   \n",
       "4                     NaN  Persons         All ages    219    10952016   \n",
       "\n",
       "       type_of_rate  rate  lower_confidence_interval  \\\n",
       "0  Age-standardised   2.1                        2.0   \n",
       "1  Age-standardised   2.6                        2.4   \n",
       "2  Age-standardised   1.7                        1.5   \n",
       "3  Age-standardised   2.8                        2.5   \n",
       "4  Age-standardised   2.5                        2.2   \n",
       "\n",
       "   upper_confidence_interval flag  \n",
       "0                        2.3  NaN  \n",
       "1                        2.8  NaN  \n",
       "2                        1.9  NaN  \n",
       "3                        3.2  NaN  \n",
       "4                        2.8  NaN  "
      ]
     },
     "execution_count": 5,
     "metadata": {},
     "output_type": "execute_result"
    }
   ],
   "source": [
    "df.head()"
   ]
  },
  {
   "cell_type": "markdown",
   "id": "e4c4914c-8731-4f8b-af4a-ff5308e72b21",
   "metadata": {},
   "source": [
    "*✅ The first few rows show cancer diagnosis records, including details on year, geography, cancer type, stage, demographics, and statistical indicators such as counts and rates.*"
   ]
  },
  {
   "cell_type": "code",
   "execution_count": 6,
   "id": "1445d513-207a-4dcc-a018-5868b0047866",
   "metadata": {},
   "outputs": [
    {
     "data": {
      "text/plain": [
       "(35030, 19)"
      ]
     },
     "execution_count": 6,
     "metadata": {},
     "output_type": "execute_result"
    }
   ],
   "source": [
    "df.shape"
   ]
  },
  {
   "cell_type": "markdown",
   "id": "037ec59a-5010-4230-8834-f082f7a97076",
   "metadata": {},
   "source": [
    "✅ *The dataset comprises 35,030 rows and 19 columns.*"
   ]
  },
  {
   "cell_type": "code",
   "execution_count": 7,
   "id": "e539ec6b-e03b-4748-9179-bd9e9b9c1bcf",
   "metadata": {},
   "outputs": [
    {
     "data": {
      "text/plain": [
       "Index(['diagnosisyear', 'geography_type', 'geography_code', 'geography_name',\n",
       "       'ndrs_main_group', 'ndrs_detailed_group', 'stage_at_diagnosis',\n",
       "       'imd_quintile', 'hormone_receptor', 'hormone_receptor_status', 'gender',\n",
       "       'age_at_diagnosis', 'count', 'Population', 'type_of_rate', 'rate',\n",
       "       'lower_confidence_interval', 'upper_confidence_interval', 'flag'],\n",
       "      dtype='object')"
      ]
     },
     "execution_count": 7,
     "metadata": {},
     "output_type": "execute_result"
    }
   ],
   "source": [
    "df.columns"
   ]
  },
  {
   "cell_type": "markdown",
   "id": "b5b0ca1d-7255-4e4d-879b-bda5c39f7841",
   "metadata": {},
   "source": [
    "✅ *The dataset includes variables capturing diagnosis year, geography, cancer type, stage, demographics, incidence counts, population, and rate estimates.*"
   ]
  },
  {
   "cell_type": "code",
   "execution_count": 8,
   "id": "9d6f284c-08ac-45fe-ba66-ef1f90345e3a",
   "metadata": {},
   "outputs": [
    {
     "name": "stdout",
     "output_type": "stream",
     "text": [
      "<class 'pandas.core.frame.DataFrame'>\n",
      "RangeIndex: 35030 entries, 0 to 35029\n",
      "Data columns (total 19 columns):\n",
      " #   Column                     Non-Null Count  Dtype  \n",
      "---  ------                     --------------  -----  \n",
      " 0   diagnosisyear              35030 non-null  int64  \n",
      " 1   geography_type             35030 non-null  object \n",
      " 2   geography_code             35030 non-null  object \n",
      " 3   geography_name             35030 non-null  object \n",
      " 4   ndrs_main_group            35030 non-null  object \n",
      " 5   ndrs_detailed_group        35030 non-null  object \n",
      " 6   stage_at_diagnosis         35030 non-null  object \n",
      " 7   imd_quintile               35030 non-null  object \n",
      " 8   hormone_receptor           690 non-null    object \n",
      " 9   hormone_receptor_status    690 non-null    object \n",
      " 10  gender                     35030 non-null  object \n",
      " 11  age_at_diagnosis           35030 non-null  object \n",
      " 12  count                      35030 non-null  int64  \n",
      " 13  Population                 35030 non-null  int64  \n",
      " 14  type_of_rate               35030 non-null  object \n",
      " 15  rate                       29792 non-null  float64\n",
      " 16  lower_confidence_interval  29792 non-null  float64\n",
      " 17  upper_confidence_interval  29792 non-null  float64\n",
      " 18  flag                       7195 non-null   object \n",
      "dtypes: float64(3), int64(3), object(13)\n",
      "memory usage: 5.1+ MB\n"
     ]
    }
   ],
   "source": [
    "df.info()"
   ]
  },
  {
   "cell_type": "markdown",
   "id": "a3c60d9c-0989-423c-99bb-804c661024a0",
   "metadata": {},
   "source": [
    "✅ *The dataset contains 35,030 rows and 19 columns. Out of these, 13 are categorical, 3 are integers (diagnosisyear, count, Population), and 3 are decimals (rate, lower_confidence_interval, upper_confidence_interval).*\n",
    "\n",
    "*Some fields are quite sparse:*\n",
    "\n",
    "*1)The hormone receptor fields are missing for almost the entire dataset (around 98% missing).*\n",
    "\n",
    "*2)The flag column is missing in nearly 80% of rows.*\n",
    "\n",
    "*The age_at_diagnosis column is stored as text, suggesting it may represent age bands rather than exact ages.*\n"
   ]
  },
  {
   "cell_type": "code",
   "execution_count": 9,
   "id": "e52514f8-c89e-44dc-a76b-ed9d07f49c85",
   "metadata": {},
   "outputs": [
    {
     "data": {
      "text/html": [
       "<div>\n",
       "<style scoped>\n",
       "    .dataframe tbody tr th:only-of-type {\n",
       "        vertical-align: middle;\n",
       "    }\n",
       "\n",
       "    .dataframe tbody tr th {\n",
       "        vertical-align: top;\n",
       "    }\n",
       "\n",
       "    .dataframe thead th {\n",
       "        text-align: right;\n",
       "    }\n",
       "</style>\n",
       "<table border=\"1\" class=\"dataframe\">\n",
       "  <thead>\n",
       "    <tr style=\"text-align: right;\">\n",
       "      <th></th>\n",
       "      <th>diagnosisyear</th>\n",
       "      <th>count</th>\n",
       "      <th>Population</th>\n",
       "      <th>rate</th>\n",
       "      <th>lower_confidence_interval</th>\n",
       "      <th>upper_confidence_interval</th>\n",
       "    </tr>\n",
       "  </thead>\n",
       "  <tbody>\n",
       "    <tr>\n",
       "      <th>count</th>\n",
       "      <td>35030.000000</td>\n",
       "      <td>35030.000000</td>\n",
       "      <td>3.503000e+04</td>\n",
       "      <td>29792.000000</td>\n",
       "      <td>29792.000000</td>\n",
       "      <td>29792.000000</td>\n",
       "    </tr>\n",
       "    <tr>\n",
       "      <th>mean</th>\n",
       "      <td>2017.500000</td>\n",
       "      <td>1497.867713</td>\n",
       "      <td>2.124806e+07</td>\n",
       "      <td>12.719364</td>\n",
       "      <td>12.260382</td>\n",
       "      <td>13.210795</td>\n",
       "    </tr>\n",
       "    <tr>\n",
       "      <th>std</th>\n",
       "      <td>2.872322</td>\n",
       "      <td>6697.796599</td>\n",
       "      <td>1.757073e+07</td>\n",
       "      <td>43.901143</td>\n",
       "      <td>43.332517</td>\n",
       "      <td>44.474403</td>\n",
       "    </tr>\n",
       "    <tr>\n",
       "      <th>min</th>\n",
       "      <td>2013.000000</td>\n",
       "      <td>0.000000</td>\n",
       "      <td>5.201813e+06</td>\n",
       "      <td>0.000000</td>\n",
       "      <td>0.000000</td>\n",
       "      <td>0.000000</td>\n",
       "    </tr>\n",
       "    <tr>\n",
       "      <th>25%</th>\n",
       "      <td>2015.000000</td>\n",
       "      <td>32.000000</td>\n",
       "      <td>5.650682e+06</td>\n",
       "      <td>0.500000</td>\n",
       "      <td>0.400000</td>\n",
       "      <td>0.700000</td>\n",
       "    </tr>\n",
       "    <tr>\n",
       "      <th>50%</th>\n",
       "      <td>2017.500000</td>\n",
       "      <td>166.000000</td>\n",
       "      <td>1.137309e+07</td>\n",
       "      <td>1.900000</td>\n",
       "      <td>1.700000</td>\n",
       "      <td>2.200000</td>\n",
       "    </tr>\n",
       "    <tr>\n",
       "      <th>75%</th>\n",
       "      <td>2020.000000</td>\n",
       "      <td>740.000000</td>\n",
       "      <td>2.830780e+07</td>\n",
       "      <td>7.700000</td>\n",
       "      <td>7.100000</td>\n",
       "      <td>8.300000</td>\n",
       "    </tr>\n",
       "    <tr>\n",
       "      <th>max</th>\n",
       "      <td>2022.000000</td>\n",
       "      <td>230968.000000</td>\n",
       "      <td>5.711254e+07</td>\n",
       "      <td>673.600000</td>\n",
       "      <td>666.700000</td>\n",
       "      <td>680.500000</td>\n",
       "    </tr>\n",
       "  </tbody>\n",
       "</table>\n",
       "</div>"
      ],
      "text/plain": [
       "       diagnosisyear          count    Population          rate  \\\n",
       "count   35030.000000   35030.000000  3.503000e+04  29792.000000   \n",
       "mean     2017.500000    1497.867713  2.124806e+07     12.719364   \n",
       "std         2.872322    6697.796599  1.757073e+07     43.901143   \n",
       "min      2013.000000       0.000000  5.201813e+06      0.000000   \n",
       "25%      2015.000000      32.000000  5.650682e+06      0.500000   \n",
       "50%      2017.500000     166.000000  1.137309e+07      1.900000   \n",
       "75%      2020.000000     740.000000  2.830780e+07      7.700000   \n",
       "max      2022.000000  230968.000000  5.711254e+07    673.600000   \n",
       "\n",
       "       lower_confidence_interval  upper_confidence_interval  \n",
       "count               29792.000000               29792.000000  \n",
       "mean                   12.260382                  13.210795  \n",
       "std                    43.332517                  44.474403  \n",
       "min                     0.000000                   0.000000  \n",
       "25%                     0.400000                   0.700000  \n",
       "50%                     1.700000                   2.200000  \n",
       "75%                     7.100000                   8.300000  \n",
       "max                   666.700000                 680.500000  "
      ]
     },
     "execution_count": 9,
     "metadata": {},
     "output_type": "execute_result"
    }
   ],
   "source": [
    "df.describe()"
   ]
  },
  {
   "cell_type": "markdown",
   "id": "be41b026-a9c2-431f-984f-12ec1e63407c",
   "metadata": {},
   "source": [
    "✅*The dataset covers cancer diagnoses from 2013 to 2022.*\n",
    "\n",
    "*Case counts range from 0 to 230,968, with most records showing relatively small numbers.*\n",
    "\n",
    "*Population figures span from about 5 million to 57 million, with a middle value around 11 million.*\n",
    "\n",
    "*The rate column shows how common cancer is in the population (cases per 100,000). Most rates are low, with a median of about 1.9, but a few records have much higher rates, reaching up to 673.6.*\n",
    "\n",
    "*The confidence interval columns show the likely range for the rate. Most values fall between 0.4 and 8.3, though a few extreme records have much higher ranges, above 600.*"
   ]
  },
  {
   "cell_type": "markdown",
   "id": "234cc464-4df4-439e-a6ee-d7048bfeba3a",
   "metadata": {},
   "source": [
    "## 🧹Data Pre-processing and Cleaning"
   ]
  },
  {
   "cell_type": "raw",
   "id": "71f868cd-c7c4-4264-85a5-60d519980d5c",
   "metadata": {},
   "source": [
    "========================="
   ]
  },
  {
   "cell_type": "markdown",
   "id": "11c80d1e-c356-494a-bc3f-5ba2c6455de2",
   "metadata": {},
   "source": [
    "### change ndrs????"
   ]
  },
  {
   "cell_type": "markdown",
   "id": "4b5a86ab-25ab-45c9-8d8b-d6248cc208f3",
   "metadata": {},
   "source": [
    "### check for different cases - upper / lower discrepancies "
   ]
  },
  {
   "cell_type": "markdown",
   "id": "cfcb9dac-0983-4198-b32b-461670241c6a",
   "metadata": {},
   "source": [
    "====================================="
   ]
  },
  {
   "cell_type": "code",
   "execution_count": 10,
   "id": "839b6c8a-b3ce-454d-9423-391a8ba64f55",
   "metadata": {},
   "outputs": [
    {
     "data": {
      "text/html": [
       "<div>\n",
       "<style scoped>\n",
       "    .dataframe tbody tr th:only-of-type {\n",
       "        vertical-align: middle;\n",
       "    }\n",
       "\n",
       "    .dataframe tbody tr th {\n",
       "        vertical-align: top;\n",
       "    }\n",
       "\n",
       "    .dataframe thead th {\n",
       "        text-align: right;\n",
       "    }\n",
       "</style>\n",
       "<table border=\"1\" class=\"dataframe\">\n",
       "  <thead>\n",
       "    <tr style=\"text-align: right;\">\n",
       "      <th></th>\n",
       "      <th>diagnosisyear</th>\n",
       "      <th>geography_type</th>\n",
       "      <th>geography_code</th>\n",
       "      <th>geography_name</th>\n",
       "      <th>ndrs_main_group</th>\n",
       "      <th>ndrs_detailed_group</th>\n",
       "      <th>stage_at_diagnosis</th>\n",
       "      <th>imd_quintile</th>\n",
       "      <th>hormone_receptor</th>\n",
       "      <th>hormone_receptor_status</th>\n",
       "      <th>gender</th>\n",
       "      <th>age_at_diagnosis</th>\n",
       "      <th>count</th>\n",
       "      <th>Population</th>\n",
       "      <th>type_of_rate</th>\n",
       "      <th>rate</th>\n",
       "      <th>lower_confidence_interval</th>\n",
       "      <th>upper_confidence_interval</th>\n",
       "      <th>flag</th>\n",
       "    </tr>\n",
       "  </thead>\n",
       "  <tbody>\n",
       "    <tr>\n",
       "      <th>0</th>\n",
       "      <td>False</td>\n",
       "      <td>False</td>\n",
       "      <td>False</td>\n",
       "      <td>False</td>\n",
       "      <td>False</td>\n",
       "      <td>False</td>\n",
       "      <td>False</td>\n",
       "      <td>False</td>\n",
       "      <td>True</td>\n",
       "      <td>True</td>\n",
       "      <td>False</td>\n",
       "      <td>False</td>\n",
       "      <td>False</td>\n",
       "      <td>False</td>\n",
       "      <td>False</td>\n",
       "      <td>False</td>\n",
       "      <td>False</td>\n",
       "      <td>False</td>\n",
       "      <td>True</td>\n",
       "    </tr>\n",
       "    <tr>\n",
       "      <th>1</th>\n",
       "      <td>False</td>\n",
       "      <td>False</td>\n",
       "      <td>False</td>\n",
       "      <td>False</td>\n",
       "      <td>False</td>\n",
       "      <td>False</td>\n",
       "      <td>False</td>\n",
       "      <td>False</td>\n",
       "      <td>True</td>\n",
       "      <td>True</td>\n",
       "      <td>False</td>\n",
       "      <td>False</td>\n",
       "      <td>False</td>\n",
       "      <td>False</td>\n",
       "      <td>False</td>\n",
       "      <td>False</td>\n",
       "      <td>False</td>\n",
       "      <td>False</td>\n",
       "      <td>True</td>\n",
       "    </tr>\n",
       "    <tr>\n",
       "      <th>2</th>\n",
       "      <td>False</td>\n",
       "      <td>False</td>\n",
       "      <td>False</td>\n",
       "      <td>False</td>\n",
       "      <td>False</td>\n",
       "      <td>False</td>\n",
       "      <td>False</td>\n",
       "      <td>False</td>\n",
       "      <td>True</td>\n",
       "      <td>True</td>\n",
       "      <td>False</td>\n",
       "      <td>False</td>\n",
       "      <td>False</td>\n",
       "      <td>False</td>\n",
       "      <td>False</td>\n",
       "      <td>False</td>\n",
       "      <td>False</td>\n",
       "      <td>False</td>\n",
       "      <td>True</td>\n",
       "    </tr>\n",
       "    <tr>\n",
       "      <th>3</th>\n",
       "      <td>False</td>\n",
       "      <td>False</td>\n",
       "      <td>False</td>\n",
       "      <td>False</td>\n",
       "      <td>False</td>\n",
       "      <td>False</td>\n",
       "      <td>False</td>\n",
       "      <td>False</td>\n",
       "      <td>True</td>\n",
       "      <td>True</td>\n",
       "      <td>False</td>\n",
       "      <td>False</td>\n",
       "      <td>False</td>\n",
       "      <td>False</td>\n",
       "      <td>False</td>\n",
       "      <td>False</td>\n",
       "      <td>False</td>\n",
       "      <td>False</td>\n",
       "      <td>True</td>\n",
       "    </tr>\n",
       "    <tr>\n",
       "      <th>4</th>\n",
       "      <td>False</td>\n",
       "      <td>False</td>\n",
       "      <td>False</td>\n",
       "      <td>False</td>\n",
       "      <td>False</td>\n",
       "      <td>False</td>\n",
       "      <td>False</td>\n",
       "      <td>False</td>\n",
       "      <td>True</td>\n",
       "      <td>True</td>\n",
       "      <td>False</td>\n",
       "      <td>False</td>\n",
       "      <td>False</td>\n",
       "      <td>False</td>\n",
       "      <td>False</td>\n",
       "      <td>False</td>\n",
       "      <td>False</td>\n",
       "      <td>False</td>\n",
       "      <td>True</td>\n",
       "    </tr>\n",
       "    <tr>\n",
       "      <th>...</th>\n",
       "      <td>...</td>\n",
       "      <td>...</td>\n",
       "      <td>...</td>\n",
       "      <td>...</td>\n",
       "      <td>...</td>\n",
       "      <td>...</td>\n",
       "      <td>...</td>\n",
       "      <td>...</td>\n",
       "      <td>...</td>\n",
       "      <td>...</td>\n",
       "      <td>...</td>\n",
       "      <td>...</td>\n",
       "      <td>...</td>\n",
       "      <td>...</td>\n",
       "      <td>...</td>\n",
       "      <td>...</td>\n",
       "      <td>...</td>\n",
       "      <td>...</td>\n",
       "      <td>...</td>\n",
       "    </tr>\n",
       "    <tr>\n",
       "      <th>35025</th>\n",
       "      <td>False</td>\n",
       "      <td>False</td>\n",
       "      <td>False</td>\n",
       "      <td>False</td>\n",
       "      <td>False</td>\n",
       "      <td>False</td>\n",
       "      <td>False</td>\n",
       "      <td>False</td>\n",
       "      <td>True</td>\n",
       "      <td>True</td>\n",
       "      <td>False</td>\n",
       "      <td>False</td>\n",
       "      <td>False</td>\n",
       "      <td>False</td>\n",
       "      <td>False</td>\n",
       "      <td>False</td>\n",
       "      <td>False</td>\n",
       "      <td>False</td>\n",
       "      <td>False</td>\n",
       "    </tr>\n",
       "    <tr>\n",
       "      <th>35026</th>\n",
       "      <td>False</td>\n",
       "      <td>False</td>\n",
       "      <td>False</td>\n",
       "      <td>False</td>\n",
       "      <td>False</td>\n",
       "      <td>False</td>\n",
       "      <td>False</td>\n",
       "      <td>False</td>\n",
       "      <td>True</td>\n",
       "      <td>True</td>\n",
       "      <td>False</td>\n",
       "      <td>False</td>\n",
       "      <td>False</td>\n",
       "      <td>False</td>\n",
       "      <td>False</td>\n",
       "      <td>False</td>\n",
       "      <td>False</td>\n",
       "      <td>False</td>\n",
       "      <td>True</td>\n",
       "    </tr>\n",
       "    <tr>\n",
       "      <th>35027</th>\n",
       "      <td>False</td>\n",
       "      <td>False</td>\n",
       "      <td>False</td>\n",
       "      <td>False</td>\n",
       "      <td>False</td>\n",
       "      <td>False</td>\n",
       "      <td>False</td>\n",
       "      <td>False</td>\n",
       "      <td>True</td>\n",
       "      <td>True</td>\n",
       "      <td>False</td>\n",
       "      <td>False</td>\n",
       "      <td>False</td>\n",
       "      <td>False</td>\n",
       "      <td>False</td>\n",
       "      <td>False</td>\n",
       "      <td>False</td>\n",
       "      <td>False</td>\n",
       "      <td>True</td>\n",
       "    </tr>\n",
       "    <tr>\n",
       "      <th>35028</th>\n",
       "      <td>False</td>\n",
       "      <td>False</td>\n",
       "      <td>False</td>\n",
       "      <td>False</td>\n",
       "      <td>False</td>\n",
       "      <td>False</td>\n",
       "      <td>False</td>\n",
       "      <td>False</td>\n",
       "      <td>True</td>\n",
       "      <td>True</td>\n",
       "      <td>False</td>\n",
       "      <td>False</td>\n",
       "      <td>False</td>\n",
       "      <td>False</td>\n",
       "      <td>False</td>\n",
       "      <td>False</td>\n",
       "      <td>False</td>\n",
       "      <td>False</td>\n",
       "      <td>True</td>\n",
       "    </tr>\n",
       "    <tr>\n",
       "      <th>35029</th>\n",
       "      <td>False</td>\n",
       "      <td>False</td>\n",
       "      <td>False</td>\n",
       "      <td>False</td>\n",
       "      <td>False</td>\n",
       "      <td>False</td>\n",
       "      <td>False</td>\n",
       "      <td>False</td>\n",
       "      <td>True</td>\n",
       "      <td>True</td>\n",
       "      <td>False</td>\n",
       "      <td>False</td>\n",
       "      <td>False</td>\n",
       "      <td>False</td>\n",
       "      <td>False</td>\n",
       "      <td>False</td>\n",
       "      <td>False</td>\n",
       "      <td>False</td>\n",
       "      <td>False</td>\n",
       "    </tr>\n",
       "  </tbody>\n",
       "</table>\n",
       "<p>35030 rows × 19 columns</p>\n",
       "</div>"
      ],
      "text/plain": [
       "       diagnosisyear  geography_type  geography_code  geography_name  \\\n",
       "0              False           False           False           False   \n",
       "1              False           False           False           False   \n",
       "2              False           False           False           False   \n",
       "3              False           False           False           False   \n",
       "4              False           False           False           False   \n",
       "...              ...             ...             ...             ...   \n",
       "35025          False           False           False           False   \n",
       "35026          False           False           False           False   \n",
       "35027          False           False           False           False   \n",
       "35028          False           False           False           False   \n",
       "35029          False           False           False           False   \n",
       "\n",
       "       ndrs_main_group  ndrs_detailed_group  stage_at_diagnosis  imd_quintile  \\\n",
       "0                False                False               False         False   \n",
       "1                False                False               False         False   \n",
       "2                False                False               False         False   \n",
       "3                False                False               False         False   \n",
       "4                False                False               False         False   \n",
       "...                ...                  ...                 ...           ...   \n",
       "35025            False                False               False         False   \n",
       "35026            False                False               False         False   \n",
       "35027            False                False               False         False   \n",
       "35028            False                False               False         False   \n",
       "35029            False                False               False         False   \n",
       "\n",
       "       hormone_receptor  hormone_receptor_status  gender  age_at_diagnosis  \\\n",
       "0                  True                     True   False             False   \n",
       "1                  True                     True   False             False   \n",
       "2                  True                     True   False             False   \n",
       "3                  True                     True   False             False   \n",
       "4                  True                     True   False             False   \n",
       "...                 ...                      ...     ...               ...   \n",
       "35025              True                     True   False             False   \n",
       "35026              True                     True   False             False   \n",
       "35027              True                     True   False             False   \n",
       "35028              True                     True   False             False   \n",
       "35029              True                     True   False             False   \n",
       "\n",
       "       count  Population  type_of_rate   rate  lower_confidence_interval  \\\n",
       "0      False       False         False  False                      False   \n",
       "1      False       False         False  False                      False   \n",
       "2      False       False         False  False                      False   \n",
       "3      False       False         False  False                      False   \n",
       "4      False       False         False  False                      False   \n",
       "...      ...         ...           ...    ...                        ...   \n",
       "35025  False       False         False  False                      False   \n",
       "35026  False       False         False  False                      False   \n",
       "35027  False       False         False  False                      False   \n",
       "35028  False       False         False  False                      False   \n",
       "35029  False       False         False  False                      False   \n",
       "\n",
       "       upper_confidence_interval   flag  \n",
       "0                          False   True  \n",
       "1                          False   True  \n",
       "2                          False   True  \n",
       "3                          False   True  \n",
       "4                          False   True  \n",
       "...                          ...    ...  \n",
       "35025                      False  False  \n",
       "35026                      False   True  \n",
       "35027                      False   True  \n",
       "35028                      False   True  \n",
       "35029                      False  False  \n",
       "\n",
       "[35030 rows x 19 columns]"
      ]
     },
     "execution_count": 10,
     "metadata": {},
     "output_type": "execute_result"
    }
   ],
   "source": [
    "df.isnull()"
   ]
  },
  {
   "cell_type": "code",
   "execution_count": 11,
   "id": "af0ee3ea-d6d0-4f55-a4c3-e7baf2aa35d4",
   "metadata": {},
   "outputs": [
    {
     "data": {
      "text/plain": [
       "diagnosisyear                    0\n",
       "geography_type                   0\n",
       "geography_code                   0\n",
       "geography_name                   0\n",
       "ndrs_main_group                  0\n",
       "ndrs_detailed_group              0\n",
       "stage_at_diagnosis               0\n",
       "imd_quintile                     0\n",
       "hormone_receptor             34340\n",
       "hormone_receptor_status      34340\n",
       "gender                           0\n",
       "age_at_diagnosis                 0\n",
       "count                            0\n",
       "Population                       0\n",
       "type_of_rate                     0\n",
       "rate                          5238\n",
       "lower_confidence_interval     5238\n",
       "upper_confidence_interval     5238\n",
       "flag                         27835\n",
       "dtype: int64"
      ]
     },
     "execution_count": 11,
     "metadata": {},
     "output_type": "execute_result"
    }
   ],
   "source": [
    "df.isnull().sum()"
   ]
  },
  {
   "cell_type": "code",
   "execution_count": 12,
   "id": "657f520e-2ee8-487b-aa44-767ef6f5b3ba",
   "metadata": {},
   "outputs": [
    {
     "data": {
      "text/html": [
       "<div>\n",
       "<style scoped>\n",
       "    .dataframe tbody tr th:only-of-type {\n",
       "        vertical-align: middle;\n",
       "    }\n",
       "\n",
       "    .dataframe tbody tr th {\n",
       "        vertical-align: top;\n",
       "    }\n",
       "\n",
       "    .dataframe thead th {\n",
       "        text-align: right;\n",
       "    }\n",
       "</style>\n",
       "<table border=\"1\" class=\"dataframe\">\n",
       "  <thead>\n",
       "    <tr style=\"text-align: right;\">\n",
       "      <th></th>\n",
       "      <th>diagnosisyear</th>\n",
       "      <th>geography_type</th>\n",
       "      <th>geography_code</th>\n",
       "      <th>geography_name</th>\n",
       "      <th>ndrs_main_group</th>\n",
       "      <th>ndrs_detailed_group</th>\n",
       "      <th>stage_at_diagnosis</th>\n",
       "      <th>imd_quintile</th>\n",
       "      <th>hormone_receptor</th>\n",
       "      <th>hormone_receptor_status</th>\n",
       "      <th>gender</th>\n",
       "      <th>age_at_diagnosis</th>\n",
       "      <th>count</th>\n",
       "      <th>Population</th>\n",
       "      <th>type_of_rate</th>\n",
       "      <th>rate</th>\n",
       "      <th>lower_confidence_interval</th>\n",
       "      <th>upper_confidence_interval</th>\n",
       "      <th>flag</th>\n",
       "    </tr>\n",
       "  </thead>\n",
       "  <tbody>\n",
       "    <tr>\n",
       "      <th>0</th>\n",
       "      <td>2013</td>\n",
       "      <td>Country</td>\n",
       "      <td>E92000001</td>\n",
       "      <td>England</td>\n",
       "      <td>Anus</td>\n",
       "      <td>All Anus</td>\n",
       "      <td>All stages</td>\n",
       "      <td>All quintiles</td>\n",
       "      <td>NaN</td>\n",
       "      <td>NaN</td>\n",
       "      <td>Persons</td>\n",
       "      <td>All ages</td>\n",
       "      <td>1057</td>\n",
       "      <td>53918686</td>\n",
       "      <td>Age-standardised</td>\n",
       "      <td>2.1</td>\n",
       "      <td>2.0</td>\n",
       "      <td>2.3</td>\n",
       "      <td>NaN</td>\n",
       "    </tr>\n",
       "    <tr>\n",
       "      <th>1</th>\n",
       "      <td>2013</td>\n",
       "      <td>Country</td>\n",
       "      <td>E92000001</td>\n",
       "      <td>England</td>\n",
       "      <td>Anus</td>\n",
       "      <td>All Anus</td>\n",
       "      <td>All stages</td>\n",
       "      <td>All quintiles</td>\n",
       "      <td>NaN</td>\n",
       "      <td>NaN</td>\n",
       "      <td>Females</td>\n",
       "      <td>All ages</td>\n",
       "      <td>668</td>\n",
       "      <td>27410034</td>\n",
       "      <td>Age-standardised</td>\n",
       "      <td>2.6</td>\n",
       "      <td>2.4</td>\n",
       "      <td>2.8</td>\n",
       "      <td>NaN</td>\n",
       "    </tr>\n",
       "    <tr>\n",
       "      <th>2</th>\n",
       "      <td>2013</td>\n",
       "      <td>Country</td>\n",
       "      <td>E92000001</td>\n",
       "      <td>England</td>\n",
       "      <td>Anus</td>\n",
       "      <td>All Anus</td>\n",
       "      <td>All stages</td>\n",
       "      <td>All quintiles</td>\n",
       "      <td>NaN</td>\n",
       "      <td>NaN</td>\n",
       "      <td>Males</td>\n",
       "      <td>All ages</td>\n",
       "      <td>389</td>\n",
       "      <td>26508652</td>\n",
       "      <td>Age-standardised</td>\n",
       "      <td>1.7</td>\n",
       "      <td>1.5</td>\n",
       "      <td>1.9</td>\n",
       "      <td>NaN</td>\n",
       "    </tr>\n",
       "    <tr>\n",
       "      <th>3</th>\n",
       "      <td>2013</td>\n",
       "      <td>Country</td>\n",
       "      <td>E92000001</td>\n",
       "      <td>England</td>\n",
       "      <td>Anus</td>\n",
       "      <td>All Anus</td>\n",
       "      <td>All stages</td>\n",
       "      <td>1 - most deprived</td>\n",
       "      <td>NaN</td>\n",
       "      <td>NaN</td>\n",
       "      <td>Persons</td>\n",
       "      <td>All ages</td>\n",
       "      <td>232</td>\n",
       "      <td>10887630</td>\n",
       "      <td>Age-standardised</td>\n",
       "      <td>2.8</td>\n",
       "      <td>2.5</td>\n",
       "      <td>3.2</td>\n",
       "      <td>NaN</td>\n",
       "    </tr>\n",
       "    <tr>\n",
       "      <th>4</th>\n",
       "      <td>2013</td>\n",
       "      <td>Country</td>\n",
       "      <td>E92000001</td>\n",
       "      <td>England</td>\n",
       "      <td>Anus</td>\n",
       "      <td>All Anus</td>\n",
       "      <td>All stages</td>\n",
       "      <td>2</td>\n",
       "      <td>NaN</td>\n",
       "      <td>NaN</td>\n",
       "      <td>Persons</td>\n",
       "      <td>All ages</td>\n",
       "      <td>219</td>\n",
       "      <td>10952016</td>\n",
       "      <td>Age-standardised</td>\n",
       "      <td>2.5</td>\n",
       "      <td>2.2</td>\n",
       "      <td>2.8</td>\n",
       "      <td>NaN</td>\n",
       "    </tr>\n",
       "  </tbody>\n",
       "</table>\n",
       "</div>"
      ],
      "text/plain": [
       "   diagnosisyear geography_type geography_code geography_name ndrs_main_group  \\\n",
       "0           2013        Country      E92000001        England            Anus   \n",
       "1           2013        Country      E92000001        England            Anus   \n",
       "2           2013        Country      E92000001        England            Anus   \n",
       "3           2013        Country      E92000001        England            Anus   \n",
       "4           2013        Country      E92000001        England            Anus   \n",
       "\n",
       "  ndrs_detailed_group stage_at_diagnosis       imd_quintile hormone_receptor  \\\n",
       "0            All Anus         All stages      All quintiles              NaN   \n",
       "1            All Anus         All stages      All quintiles              NaN   \n",
       "2            All Anus         All stages      All quintiles              NaN   \n",
       "3            All Anus         All stages  1 - most deprived              NaN   \n",
       "4            All Anus         All stages                  2              NaN   \n",
       "\n",
       "  hormone_receptor_status   gender age_at_diagnosis  count  Population  \\\n",
       "0                     NaN  Persons         All ages   1057    53918686   \n",
       "1                     NaN  Females         All ages    668    27410034   \n",
       "2                     NaN    Males         All ages    389    26508652   \n",
       "3                     NaN  Persons         All ages    232    10887630   \n",
       "4                     NaN  Persons         All ages    219    10952016   \n",
       "\n",
       "       type_of_rate  rate  lower_confidence_interval  \\\n",
       "0  Age-standardised   2.1                        2.0   \n",
       "1  Age-standardised   2.6                        2.4   \n",
       "2  Age-standardised   1.7                        1.5   \n",
       "3  Age-standardised   2.8                        2.5   \n",
       "4  Age-standardised   2.5                        2.2   \n",
       "\n",
       "   upper_confidence_interval flag  \n",
       "0                        2.3  NaN  \n",
       "1                        2.8  NaN  \n",
       "2                        1.9  NaN  \n",
       "3                        3.2  NaN  \n",
       "4                        2.8  NaN  "
      ]
     },
     "execution_count": 12,
     "metadata": {},
     "output_type": "execute_result"
    }
   ],
   "source": [
    "df[df.isnull().any(axis=1)].head()"
   ]
  },
  {
   "cell_type": "code",
   "execution_count": 13,
   "id": "95fa6428-cc0f-4b0f-9890-f6354a73d7af",
   "metadata": {},
   "outputs": [
    {
     "data": {
      "text/plain": [
       "ndrs_main_group\n",
       "Breast    690\n",
       "Name: count, dtype: int64"
      ]
     },
     "execution_count": 13,
     "metadata": {},
     "output_type": "execute_result"
    }
   ],
   "source": [
    "df[df['hormone_receptor'].notna()]['ndrs_main_group'].value_counts()"
   ]
  },
  {
   "cell_type": "markdown",
   "id": "38e47a55-80ff-4b57-b0c4-e4051fa4134e",
   "metadata": {},
   "source": [
    "✅*The hormone receptor and hormone receptor status columns are relevant only for breast cancer. For all other cancers, these fields appear as ‘NaN’, which is expected and not an error. Therefore, the columns are kept as they are.*"
   ]
  },
  {
   "cell_type": "code",
   "execution_count": 14,
   "id": "a66900c3-1dbc-411f-b1fa-8ac7bcc87dd9",
   "metadata": {},
   "outputs": [
    {
     "data": {
      "text/plain": [
       "rate                         5238\n",
       "lower_confidence_interval    5238\n",
       "upper_confidence_interval    5238\n",
       "dtype: int64"
      ]
     },
     "execution_count": 14,
     "metadata": {},
     "output_type": "execute_result"
    }
   ],
   "source": [
    "df[['rate', 'lower_confidence_interval',\t'upper_confidence_interval']].isna().sum()"
   ]
  },
  {
   "cell_type": "code",
   "execution_count": 15,
   "id": "b29c3afd-0cd9-4591-9cb9-6610fc7c644f",
   "metadata": {},
   "outputs": [
    {
     "data": {
      "text/plain": [
       "ndrs_main_group\n",
       "Blood cancer                                         914\n",
       "Soft tissue sarcoma                                  617\n",
       "Cancer of unknown primary                            510\n",
       "Head and neck                                        491\n",
       "Brain                                                419\n",
       "Bone sarcoma                                         390\n",
       "Kidney                                               344\n",
       "Oesophagus                                           267\n",
       "Renal pelvis and ureter                              250\n",
       "Stomach                                              154\n",
       "Heart, mediastinum, pleura, other and ill-defined    116\n",
       "Bladder                                               92\n",
       "Pancreas                                              90\n",
       "Bowel                                                 86\n",
       "Ovary                                                 80\n",
       "Urethra                                               61\n",
       "Liver and biliary tract                               60\n",
       "Breast                                                57\n",
       "Thymus                                                54\n",
       "Testes                                                50\n",
       "Lung                                                  30\n",
       "Skin cancer                                           30\n",
       "Endocrine glands excluding brain                      26\n",
       "Cervix                                                20\n",
       "Small intestine                                       15\n",
       "Anus                                                  12\n",
       "Eye                                                    3\n",
       "Name: count, dtype: int64"
      ]
     },
     "execution_count": 15,
     "metadata": {},
     "output_type": "execute_result"
    }
   ],
   "source": [
    "df[df['rate'].isna()]['ndrs_main_group'].value_counts()"
   ]
  },
  {
   "cell_type": "code",
   "execution_count": 16,
   "id": "a8977e64-ed3e-4c76-a148-48e01c501b93",
   "metadata": {},
   "outputs": [
    {
     "data": {
      "text/html": [
       "<div>\n",
       "<style scoped>\n",
       "    .dataframe tbody tr th:only-of-type {\n",
       "        vertical-align: middle;\n",
       "    }\n",
       "\n",
       "    .dataframe tbody tr th {\n",
       "        vertical-align: top;\n",
       "    }\n",
       "\n",
       "    .dataframe thead th {\n",
       "        text-align: right;\n",
       "    }\n",
       "</style>\n",
       "<table border=\"1\" class=\"dataframe\">\n",
       "  <thead>\n",
       "    <tr style=\"text-align: right;\">\n",
       "      <th></th>\n",
       "      <th>diagnosisyear</th>\n",
       "      <th>geography_type</th>\n",
       "      <th>geography_code</th>\n",
       "      <th>geography_name</th>\n",
       "      <th>ndrs_main_group</th>\n",
       "      <th>ndrs_detailed_group</th>\n",
       "      <th>stage_at_diagnosis</th>\n",
       "      <th>imd_quintile</th>\n",
       "      <th>hormone_receptor</th>\n",
       "      <th>hormone_receptor_status</th>\n",
       "      <th>gender</th>\n",
       "      <th>age_at_diagnosis</th>\n",
       "      <th>count</th>\n",
       "      <th>Population</th>\n",
       "      <th>type_of_rate</th>\n",
       "      <th>rate</th>\n",
       "      <th>lower_confidence_interval</th>\n",
       "      <th>upper_confidence_interval</th>\n",
       "      <th>flag</th>\n",
       "    </tr>\n",
       "  </thead>\n",
       "  <tbody>\n",
       "    <tr>\n",
       "      <th>29</th>\n",
       "      <td>2013</td>\n",
       "      <td>Country</td>\n",
       "      <td>E92000001</td>\n",
       "      <td>England</td>\n",
       "      <td>Anus</td>\n",
       "      <td>All Anus</td>\n",
       "      <td>Unstageable</td>\n",
       "      <td>All quintiles</td>\n",
       "      <td>NaN</td>\n",
       "      <td>NaN</td>\n",
       "      <td>Males</td>\n",
       "      <td>All ages</td>\n",
       "      <td>8</td>\n",
       "      <td>26508652</td>\n",
       "      <td>Age-standardised</td>\n",
       "      <td>NaN</td>\n",
       "      <td>NaN</td>\n",
       "      <td>NaN</td>\n",
       "      <td>[note2]</td>\n",
       "    </tr>\n",
       "    <tr>\n",
       "      <th>108</th>\n",
       "      <td>2013</td>\n",
       "      <td>Country</td>\n",
       "      <td>E92000001</td>\n",
       "      <td>England</td>\n",
       "      <td>Bladder</td>\n",
       "      <td>Bladder - uncertain or unknown</td>\n",
       "      <td>Missing</td>\n",
       "      <td>All quintiles</td>\n",
       "      <td>NaN</td>\n",
       "      <td>NaN</td>\n",
       "      <td>Persons</td>\n",
       "      <td>All ages</td>\n",
       "      <td>0</td>\n",
       "      <td>53918686</td>\n",
       "      <td>Age-standardised</td>\n",
       "      <td>NaN</td>\n",
       "      <td>NaN</td>\n",
       "      <td>NaN</td>\n",
       "      <td>[note2]</td>\n",
       "    </tr>\n",
       "    <tr>\n",
       "      <th>109</th>\n",
       "      <td>2013</td>\n",
       "      <td>Country</td>\n",
       "      <td>E92000001</td>\n",
       "      <td>England</td>\n",
       "      <td>Bladder</td>\n",
       "      <td>Bladder - uncertain or unknown</td>\n",
       "      <td>Stage 1 &amp; 2</td>\n",
       "      <td>All quintiles</td>\n",
       "      <td>NaN</td>\n",
       "      <td>NaN</td>\n",
       "      <td>Persons</td>\n",
       "      <td>All ages</td>\n",
       "      <td>0</td>\n",
       "      <td>53918686</td>\n",
       "      <td>Age-standardised</td>\n",
       "      <td>NaN</td>\n",
       "      <td>NaN</td>\n",
       "      <td>NaN</td>\n",
       "      <td>[note2]</td>\n",
       "    </tr>\n",
       "    <tr>\n",
       "      <th>110</th>\n",
       "      <td>2013</td>\n",
       "      <td>Country</td>\n",
       "      <td>E92000001</td>\n",
       "      <td>England</td>\n",
       "      <td>Bladder</td>\n",
       "      <td>Bladder - uncertain or unknown</td>\n",
       "      <td>Stage 3 &amp; 4</td>\n",
       "      <td>All quintiles</td>\n",
       "      <td>NaN</td>\n",
       "      <td>NaN</td>\n",
       "      <td>Persons</td>\n",
       "      <td>All ages</td>\n",
       "      <td>0</td>\n",
       "      <td>53918686</td>\n",
       "      <td>Age-standardised</td>\n",
       "      <td>NaN</td>\n",
       "      <td>NaN</td>\n",
       "      <td>NaN</td>\n",
       "      <td>[note2]</td>\n",
       "    </tr>\n",
       "    <tr>\n",
       "      <th>112</th>\n",
       "      <td>2013</td>\n",
       "      <td>Country</td>\n",
       "      <td>E92000001</td>\n",
       "      <td>England</td>\n",
       "      <td>Bladder</td>\n",
       "      <td>Bladder - uncertain or unknown</td>\n",
       "      <td>Missing</td>\n",
       "      <td>All quintiles</td>\n",
       "      <td>NaN</td>\n",
       "      <td>NaN</td>\n",
       "      <td>Females</td>\n",
       "      <td>All ages</td>\n",
       "      <td>0</td>\n",
       "      <td>27410034</td>\n",
       "      <td>Age-standardised</td>\n",
       "      <td>NaN</td>\n",
       "      <td>NaN</td>\n",
       "      <td>NaN</td>\n",
       "      <td>[note2]</td>\n",
       "    </tr>\n",
       "  </tbody>\n",
       "</table>\n",
       "</div>"
      ],
      "text/plain": [
       "     diagnosisyear geography_type geography_code geography_name  \\\n",
       "29            2013        Country      E92000001        England   \n",
       "108           2013        Country      E92000001        England   \n",
       "109           2013        Country      E92000001        England   \n",
       "110           2013        Country      E92000001        England   \n",
       "112           2013        Country      E92000001        England   \n",
       "\n",
       "    ndrs_main_group             ndrs_detailed_group stage_at_diagnosis  \\\n",
       "29             Anus                        All Anus        Unstageable   \n",
       "108         Bladder  Bladder - uncertain or unknown            Missing   \n",
       "109         Bladder  Bladder - uncertain or unknown        Stage 1 & 2   \n",
       "110         Bladder  Bladder - uncertain or unknown        Stage 3 & 4   \n",
       "112         Bladder  Bladder - uncertain or unknown            Missing   \n",
       "\n",
       "      imd_quintile hormone_receptor hormone_receptor_status   gender  \\\n",
       "29   All quintiles              NaN                     NaN    Males   \n",
       "108  All quintiles              NaN                     NaN  Persons   \n",
       "109  All quintiles              NaN                     NaN  Persons   \n",
       "110  All quintiles              NaN                     NaN  Persons   \n",
       "112  All quintiles              NaN                     NaN  Females   \n",
       "\n",
       "    age_at_diagnosis  count  Population      type_of_rate  rate  \\\n",
       "29          All ages      8    26508652  Age-standardised   NaN   \n",
       "108         All ages      0    53918686  Age-standardised   NaN   \n",
       "109         All ages      0    53918686  Age-standardised   NaN   \n",
       "110         All ages      0    53918686  Age-standardised   NaN   \n",
       "112         All ages      0    27410034  Age-standardised   NaN   \n",
       "\n",
       "     lower_confidence_interval  upper_confidence_interval     flag  \n",
       "29                         NaN                        NaN  [note2]  \n",
       "108                        NaN                        NaN  [note2]  \n",
       "109                        NaN                        NaN  [note2]  \n",
       "110                        NaN                        NaN  [note2]  \n",
       "112                        NaN                        NaN  [note2]  "
      ]
     },
     "execution_count": 16,
     "metadata": {},
     "output_type": "execute_result"
    }
   ],
   "source": [
    "df[df['rate'].isna()].head()"
   ]
  },
  {
   "cell_type": "code",
   "execution_count": 17,
   "id": "4491937d-5c02-443e-8f77-4bdbfd12607a",
   "metadata": {
    "scrolled": true
   },
   "outputs": [
    {
     "data": {
      "text/html": [
       "<div>\n",
       "<style scoped>\n",
       "    .dataframe tbody tr th:only-of-type {\n",
       "        vertical-align: middle;\n",
       "    }\n",
       "\n",
       "    .dataframe tbody tr th {\n",
       "        vertical-align: top;\n",
       "    }\n",
       "\n",
       "    .dataframe thead th {\n",
       "        text-align: right;\n",
       "    }\n",
       "</style>\n",
       "<table border=\"1\" class=\"dataframe\">\n",
       "  <thead>\n",
       "    <tr style=\"text-align: right;\">\n",
       "      <th></th>\n",
       "      <th>count</th>\n",
       "      <th>rate</th>\n",
       "      <th>lower_confidence_interval</th>\n",
       "      <th>upper_confidence_interval</th>\n",
       "    </tr>\n",
       "  </thead>\n",
       "  <tbody>\n",
       "    <tr>\n",
       "      <th>29</th>\n",
       "      <td>8</td>\n",
       "      <td>NaN</td>\n",
       "      <td>NaN</td>\n",
       "      <td>NaN</td>\n",
       "    </tr>\n",
       "    <tr>\n",
       "      <th>108</th>\n",
       "      <td>0</td>\n",
       "      <td>NaN</td>\n",
       "      <td>NaN</td>\n",
       "      <td>NaN</td>\n",
       "    </tr>\n",
       "    <tr>\n",
       "      <th>109</th>\n",
       "      <td>0</td>\n",
       "      <td>NaN</td>\n",
       "      <td>NaN</td>\n",
       "      <td>NaN</td>\n",
       "    </tr>\n",
       "    <tr>\n",
       "      <th>110</th>\n",
       "      <td>0</td>\n",
       "      <td>NaN</td>\n",
       "      <td>NaN</td>\n",
       "      <td>NaN</td>\n",
       "    </tr>\n",
       "    <tr>\n",
       "      <th>112</th>\n",
       "      <td>0</td>\n",
       "      <td>NaN</td>\n",
       "      <td>NaN</td>\n",
       "      <td>NaN</td>\n",
       "    </tr>\n",
       "    <tr>\n",
       "      <th>...</th>\n",
       "      <td>...</td>\n",
       "      <td>...</td>\n",
       "      <td>...</td>\n",
       "      <td>...</td>\n",
       "    </tr>\n",
       "    <tr>\n",
       "      <th>34928</th>\n",
       "      <td>6</td>\n",
       "      <td>NaN</td>\n",
       "      <td>NaN</td>\n",
       "      <td>NaN</td>\n",
       "    </tr>\n",
       "    <tr>\n",
       "      <th>34929</th>\n",
       "      <td>11</td>\n",
       "      <td>NaN</td>\n",
       "      <td>NaN</td>\n",
       "      <td>NaN</td>\n",
       "    </tr>\n",
       "    <tr>\n",
       "      <th>34930</th>\n",
       "      <td>12</td>\n",
       "      <td>NaN</td>\n",
       "      <td>NaN</td>\n",
       "      <td>NaN</td>\n",
       "    </tr>\n",
       "    <tr>\n",
       "      <th>34942</th>\n",
       "      <td>10</td>\n",
       "      <td>NaN</td>\n",
       "      <td>NaN</td>\n",
       "      <td>NaN</td>\n",
       "    </tr>\n",
       "    <tr>\n",
       "      <th>34943</th>\n",
       "      <td>2</td>\n",
       "      <td>NaN</td>\n",
       "      <td>NaN</td>\n",
       "      <td>NaN</td>\n",
       "    </tr>\n",
       "  </tbody>\n",
       "</table>\n",
       "<p>5238 rows × 4 columns</p>\n",
       "</div>"
      ],
      "text/plain": [
       "       count  rate  lower_confidence_interval  upper_confidence_interval\n",
       "29         8   NaN                        NaN                        NaN\n",
       "108        0   NaN                        NaN                        NaN\n",
       "109        0   NaN                        NaN                        NaN\n",
       "110        0   NaN                        NaN                        NaN\n",
       "112        0   NaN                        NaN                        NaN\n",
       "...      ...   ...                        ...                        ...\n",
       "34928      6   NaN                        NaN                        NaN\n",
       "34929     11   NaN                        NaN                        NaN\n",
       "34930     12   NaN                        NaN                        NaN\n",
       "34942     10   NaN                        NaN                        NaN\n",
       "34943      2   NaN                        NaN                        NaN\n",
       "\n",
       "[5238 rows x 4 columns]"
      ]
     },
     "execution_count": 17,
     "metadata": {},
     "output_type": "execute_result"
    }
   ],
   "source": [
    "df[df['rate'].isna()][['count', 'rate', 'lower_confidence_interval', 'upper_confidence_interval']]"
   ]
  },
  {
   "cell_type": "code",
   "execution_count": 18,
   "id": "d23e300c-8dec-429f-bd3f-4fe6f12058e0",
   "metadata": {},
   "outputs": [
    {
     "data": {
      "text/html": [
       "<div>\n",
       "<style scoped>\n",
       "    .dataframe tbody tr th:only-of-type {\n",
       "        vertical-align: middle;\n",
       "    }\n",
       "\n",
       "    .dataframe tbody tr th {\n",
       "        vertical-align: top;\n",
       "    }\n",
       "\n",
       "    .dataframe thead th {\n",
       "        text-align: right;\n",
       "    }\n",
       "</style>\n",
       "<table border=\"1\" class=\"dataframe\">\n",
       "  <thead>\n",
       "    <tr style=\"text-align: right;\">\n",
       "      <th></th>\n",
       "      <th>diagnosisyear</th>\n",
       "      <th>ndrs_main_group</th>\n",
       "      <th>count</th>\n",
       "      <th>rate</th>\n",
       "      <th>lower_confidence_interval</th>\n",
       "      <th>upper_confidence_interval</th>\n",
       "    </tr>\n",
       "  </thead>\n",
       "  <tbody>\n",
       "    <tr>\n",
       "      <th>29</th>\n",
       "      <td>2013</td>\n",
       "      <td>Anus</td>\n",
       "      <td>8</td>\n",
       "      <td>NaN</td>\n",
       "      <td>NaN</td>\n",
       "      <td>NaN</td>\n",
       "    </tr>\n",
       "    <tr>\n",
       "      <th>108</th>\n",
       "      <td>2013</td>\n",
       "      <td>Bladder</td>\n",
       "      <td>0</td>\n",
       "      <td>NaN</td>\n",
       "      <td>NaN</td>\n",
       "      <td>NaN</td>\n",
       "    </tr>\n",
       "    <tr>\n",
       "      <th>109</th>\n",
       "      <td>2013</td>\n",
       "      <td>Bladder</td>\n",
       "      <td>0</td>\n",
       "      <td>NaN</td>\n",
       "      <td>NaN</td>\n",
       "      <td>NaN</td>\n",
       "    </tr>\n",
       "    <tr>\n",
       "      <th>110</th>\n",
       "      <td>2013</td>\n",
       "      <td>Bladder</td>\n",
       "      <td>0</td>\n",
       "      <td>NaN</td>\n",
       "      <td>NaN</td>\n",
       "      <td>NaN</td>\n",
       "    </tr>\n",
       "    <tr>\n",
       "      <th>112</th>\n",
       "      <td>2013</td>\n",
       "      <td>Bladder</td>\n",
       "      <td>0</td>\n",
       "      <td>NaN</td>\n",
       "      <td>NaN</td>\n",
       "      <td>NaN</td>\n",
       "    </tr>\n",
       "  </tbody>\n",
       "</table>\n",
       "</div>"
      ],
      "text/plain": [
       "     diagnosisyear ndrs_main_group  count  rate  lower_confidence_interval  \\\n",
       "29            2013            Anus      8   NaN                        NaN   \n",
       "108           2013         Bladder      0   NaN                        NaN   \n",
       "109           2013         Bladder      0   NaN                        NaN   \n",
       "110           2013         Bladder      0   NaN                        NaN   \n",
       "112           2013         Bladder      0   NaN                        NaN   \n",
       "\n",
       "     upper_confidence_interval  \n",
       "29                         NaN  \n",
       "108                        NaN  \n",
       "109                        NaN  \n",
       "110                        NaN  \n",
       "112                        NaN  "
      ]
     },
     "execution_count": 18,
     "metadata": {},
     "output_type": "execute_result"
    }
   ],
   "source": [
    "df[df['rate'].isna()][['diagnosisyear', 'ndrs_main_group', 'count','rate', 'lower_confidence_interval', 'upper_confidence_interval']].head()\n"
   ]
  },
  {
   "cell_type": "raw",
   "id": "5690d5a0-752c-41b1-b368-0564fd0a3b6b",
   "metadata": {},
   "source": [
    "✅ The columns rate, lower_confidence_interval, and upper_confidence_interval are sometimes empty. This happens when the number of cases (count) is extremely small (often zero or single digits). In such situations, calculating a rate per 100,000 people would not be meaningful, so these fields are left blank. These missing values are therefore expected and should not be treated as errors."
   ]
  },
  {
   "cell_type": "code",
   "execution_count": 19,
   "id": "702f29fb-0453-469b-ad7a-6f919a02e8e8",
   "metadata": {
    "scrolled": true
   },
   "outputs": [
    {
     "name": "stdout",
     "output_type": "stream",
     "text": [
      "       diagnosisyear geography_type geography_code geography_name  \\\n",
      "25              2013        Country      E92000001        England   \n",
      "29              2013        Country      E92000001        England   \n",
      "98              2013        Country      E92000001        England   \n",
      "99              2013        Country      E92000001        England   \n",
      "102             2013        Country      E92000001        England   \n",
      "...              ...            ...            ...            ...   \n",
      "34932           2022        Country      E92000001        England   \n",
      "34943           2022        Country      E92000001        England   \n",
      "34944           2022        Country      E92000001        England   \n",
      "35025           2022        Country      E92000001        England   \n",
      "35029           2022        Country      E92000001        England   \n",
      "\n",
      "      ndrs_main_group             ndrs_detailed_group stage_at_diagnosis  \\\n",
      "25               Anus                        All Anus        Unstageable   \n",
      "29               Anus                        All Anus        Unstageable   \n",
      "98            Bladder  Bladder - uncertain or unknown         All stages   \n",
      "99            Bladder  Bladder - uncertain or unknown         All stages   \n",
      "102           Bladder  Bladder - uncertain or unknown         All stages   \n",
      "...               ...                             ...                ...   \n",
      "34932         Urethra                     All Urethra         All stages   \n",
      "34943         Urethra                     All Urethra        Stage 1 & 2   \n",
      "34944         Urethra                     All Urethra        Stage 3 & 4   \n",
      "35025          Vagina                      All Vagina        Unstageable   \n",
      "35029          Vagina                      All Vagina        Unstageable   \n",
      "\n",
      "             imd_quintile hormone_receptor hormone_receptor_status   gender  \\\n",
      "25          All quintiles              NaN                     NaN  Females   \n",
      "29          All quintiles              NaN                     NaN    Males   \n",
      "98      1 - most deprived              NaN                     NaN  Females   \n",
      "99                      2              NaN                     NaN  Females   \n",
      "102    5 - least deprived              NaN                     NaN  Females   \n",
      "...                   ...              ...                     ...      ...   \n",
      "34932  5 - least deprived              NaN                     NaN  Females   \n",
      "34943       All quintiles              NaN                     NaN  Females   \n",
      "34944       All quintiles              NaN                     NaN  Females   \n",
      "35025       All quintiles              NaN                     NaN  Persons   \n",
      "35029       All quintiles              NaN                     NaN  Females   \n",
      "\n",
      "      age_at_diagnosis  count  Population      type_of_rate  rate  \\\n",
      "25            All ages     15    27410034  Age-standardised   0.1   \n",
      "29            All ages      8    26508652  Age-standardised   NaN   \n",
      "98            All ages     11     5532711  Age-standardised   0.2   \n",
      "99            All ages     19     5550402  Age-standardised   0.4   \n",
      "102           All ages     18     5412300  Age-standardised   0.3   \n",
      "...                ...    ...         ...               ...   ...   \n",
      "34932         All ages     15     5711849  Age-standardised   0.2   \n",
      "34943         All ages      2    29126510  Age-standardised   NaN   \n",
      "34944         All ages     10    29126510  Age-standardised   0.0   \n",
      "35025         All ages     19    57112542  Age-standardised   0.0   \n",
      "35029         All ages     19    29126510  Age-standardised   0.1   \n",
      "\n",
      "       lower_confidence_interval  upper_confidence_interval     flag  \n",
      "25                           0.0                        0.1  [note1]  \n",
      "29                           NaN                        NaN  [note2]  \n",
      "98                           0.1                        0.4  [note1]  \n",
      "99                           0.2                        0.6  [note1]  \n",
      "102                          0.2                        0.5  [note1]  \n",
      "...                          ...                        ...      ...  \n",
      "34932                        0.1                        0.3  [note1]  \n",
      "34943                        NaN                        NaN  [note2]  \n",
      "34944                        0.0                        0.1  [note1]  \n",
      "35025                        0.0                        0.0  [note1]  \n",
      "35029                        0.0                        0.1  [note1]  \n",
      "\n",
      "[6877 rows x 19 columns]\n"
     ]
    }
   ],
   "source": [
    "flags = ['[note1]', '[note2]', '[note4]', '[u]']\n",
    "flagged_rows = df[df['flag'].isin(flags)]\n",
    "print(flagged_rows)"
   ]
  },
  {
   "cell_type": "raw",
   "id": "00be6964-f7f4-4d05-914c-b75e6cced86e",
   "metadata": {},
   "source": [
    "[note1]: Fewer than 20 cases – rates may be less reliable.\n",
    "\n",
    "[note2]: Fewer than 10 cases – rates and confidence intervals are hidden.\n",
    "\n",
    "[note4]: Some cancers (like blood or head & neck) are suppressed due to inconsistent staging.\n",
    "\n",
    "[u]: Values intentionally hidden to avoid unreliable comparisons."
   ]
  },
  {
   "cell_type": "code",
   "execution_count": 20,
   "id": "e20b9b9b-62bc-4d29-9540-4cde26be7eba",
   "metadata": {},
   "outputs": [],
   "source": [
    "df_clean = df.copy()"
   ]
  },
  {
   "cell_type": "code",
   "execution_count": 21,
   "id": "a632ecef-d613-4b2d-930d-a75a1de797d2",
   "metadata": {},
   "outputs": [],
   "source": [
    "df_clean = df_clean.drop(columns = ['lower_confidence_interval', 'upper_confidence_interval','flag' ])"
   ]
  },
  {
   "cell_type": "code",
   "execution_count": 22,
   "id": "c9e22e08-1623-46ea-9b1b-9ba14f83f4e4",
   "metadata": {},
   "outputs": [
    {
     "data": {
      "text/plain": [
       "Index(['diagnosisyear', 'geography_type', 'geography_code', 'geography_name',\n",
       "       'ndrs_main_group', 'ndrs_detailed_group', 'stage_at_diagnosis',\n",
       "       'imd_quintile', 'hormone_receptor', 'hormone_receptor_status', 'gender',\n",
       "       'age_at_diagnosis', 'count', 'Population', 'type_of_rate', 'rate'],\n",
       "      dtype='object')"
      ]
     },
     "execution_count": 22,
     "metadata": {},
     "output_type": "execute_result"
    }
   ],
   "source": [
    "df_clean.columns"
   ]
  },
  {
   "cell_type": "raw",
   "id": "b7bf4086-2306-4509-8234-5a2475bfa9aa",
   "metadata": {},
   "source": [
    "✅ The columns Lower Confidence Interval, Upper Confidence Interval, and Flag were dropped. These fields are valid but mainly indicate statistical uncertainty for small case numbers. Since the project focuses on broader cancer trends, they are not needed for this analysis."
   ]
  },
  {
   "cell_type": "code",
   "execution_count": 23,
   "id": "79b2e7a4-731f-46c4-a287-d5f320192c00",
   "metadata": {},
   "outputs": [
    {
     "data": {
      "text/plain": [
       "0"
      ]
     },
     "execution_count": 23,
     "metadata": {},
     "output_type": "execute_result"
    }
   ],
   "source": [
    "df_clean.duplicated().sum()"
   ]
  },
  {
   "cell_type": "code",
   "execution_count": 24,
   "id": "0609a462-bc76-4407-9ea2-9eae3992686e",
   "metadata": {},
   "outputs": [
    {
     "data": {
      "text/plain": [
       "diagnosisyear                int64\n",
       "geography_type              object\n",
       "geography_code              object\n",
       "geography_name              object\n",
       "ndrs_main_group             object\n",
       "ndrs_detailed_group         object\n",
       "stage_at_diagnosis          object\n",
       "imd_quintile                object\n",
       "hormone_receptor            object\n",
       "hormone_receptor_status     object\n",
       "gender                      object\n",
       "age_at_diagnosis            object\n",
       "count                        int64\n",
       "Population                   int64\n",
       "type_of_rate                object\n",
       "rate                       float64\n",
       "dtype: object"
      ]
     },
     "execution_count": 24,
     "metadata": {},
     "output_type": "execute_result"
    }
   ],
   "source": [
    "df_clean.dtypes"
   ]
  },
  {
   "cell_type": "code",
   "execution_count": 25,
   "id": "9a76dd25-4075-435d-b75c-f33bf137aa31",
   "metadata": {},
   "outputs": [
    {
     "data": {
      "text/plain": [
       "0        All ages\n",
       "1        All ages\n",
       "2        All ages\n",
       "3        All ages\n",
       "4        All ages\n",
       "           ...   \n",
       "35025    All ages\n",
       "35026    All ages\n",
       "35027    All ages\n",
       "35028    All ages\n",
       "35029    All ages\n",
       "Name: age_at_diagnosis, Length: 35030, dtype: object"
      ]
     },
     "execution_count": 25,
     "metadata": {},
     "output_type": "execute_result"
    }
   ],
   "source": [
    "df_clean['age_at_diagnosis']"
   ]
  },
  {
   "cell_type": "code",
   "execution_count": 26,
   "id": "734113bc-cae6-4aa2-9097-5feb635b0b42",
   "metadata": {},
   "outputs": [],
   "source": [
    "df_clean = df_clean.drop(columns=['age_at_diagnosis'])"
   ]
  },
  {
   "cell_type": "code",
   "execution_count": 27,
   "id": "dced00ab-5e08-44ab-a333-18dea13e1b96",
   "metadata": {},
   "outputs": [
    {
     "data": {
      "text/html": [
       "<div>\n",
       "<style scoped>\n",
       "    .dataframe tbody tr th:only-of-type {\n",
       "        vertical-align: middle;\n",
       "    }\n",
       "\n",
       "    .dataframe tbody tr th {\n",
       "        vertical-align: top;\n",
       "    }\n",
       "\n",
       "    .dataframe thead th {\n",
       "        text-align: right;\n",
       "    }\n",
       "</style>\n",
       "<table border=\"1\" class=\"dataframe\">\n",
       "  <thead>\n",
       "    <tr style=\"text-align: right;\">\n",
       "      <th></th>\n",
       "      <th>geography_type</th>\n",
       "      <th>geography_code</th>\n",
       "      <th>geography_name</th>\n",
       "      <th>type_of_rate</th>\n",
       "    </tr>\n",
       "  </thead>\n",
       "  <tbody>\n",
       "    <tr>\n",
       "      <th>0</th>\n",
       "      <td>Country</td>\n",
       "      <td>E92000001</td>\n",
       "      <td>England</td>\n",
       "      <td>Age-standardised</td>\n",
       "    </tr>\n",
       "    <tr>\n",
       "      <th>1</th>\n",
       "      <td>Country</td>\n",
       "      <td>E92000001</td>\n",
       "      <td>England</td>\n",
       "      <td>Age-standardised</td>\n",
       "    </tr>\n",
       "    <tr>\n",
       "      <th>2</th>\n",
       "      <td>Country</td>\n",
       "      <td>E92000001</td>\n",
       "      <td>England</td>\n",
       "      <td>Age-standardised</td>\n",
       "    </tr>\n",
       "    <tr>\n",
       "      <th>3</th>\n",
       "      <td>Country</td>\n",
       "      <td>E92000001</td>\n",
       "      <td>England</td>\n",
       "      <td>Age-standardised</td>\n",
       "    </tr>\n",
       "    <tr>\n",
       "      <th>4</th>\n",
       "      <td>Country</td>\n",
       "      <td>E92000001</td>\n",
       "      <td>England</td>\n",
       "      <td>Age-standardised</td>\n",
       "    </tr>\n",
       "    <tr>\n",
       "      <th>...</th>\n",
       "      <td>...</td>\n",
       "      <td>...</td>\n",
       "      <td>...</td>\n",
       "      <td>...</td>\n",
       "    </tr>\n",
       "    <tr>\n",
       "      <th>35025</th>\n",
       "      <td>Country</td>\n",
       "      <td>E92000001</td>\n",
       "      <td>England</td>\n",
       "      <td>Age-standardised</td>\n",
       "    </tr>\n",
       "    <tr>\n",
       "      <th>35026</th>\n",
       "      <td>Country</td>\n",
       "      <td>E92000001</td>\n",
       "      <td>England</td>\n",
       "      <td>Age-standardised</td>\n",
       "    </tr>\n",
       "    <tr>\n",
       "      <th>35027</th>\n",
       "      <td>Country</td>\n",
       "      <td>E92000001</td>\n",
       "      <td>England</td>\n",
       "      <td>Age-standardised</td>\n",
       "    </tr>\n",
       "    <tr>\n",
       "      <th>35028</th>\n",
       "      <td>Country</td>\n",
       "      <td>E92000001</td>\n",
       "      <td>England</td>\n",
       "      <td>Age-standardised</td>\n",
       "    </tr>\n",
       "    <tr>\n",
       "      <th>35029</th>\n",
       "      <td>Country</td>\n",
       "      <td>E92000001</td>\n",
       "      <td>England</td>\n",
       "      <td>Age-standardised</td>\n",
       "    </tr>\n",
       "  </tbody>\n",
       "</table>\n",
       "<p>35030 rows × 4 columns</p>\n",
       "</div>"
      ],
      "text/plain": [
       "      geography_type geography_code geography_name      type_of_rate\n",
       "0            Country      E92000001        England  Age-standardised\n",
       "1            Country      E92000001        England  Age-standardised\n",
       "2            Country      E92000001        England  Age-standardised\n",
       "3            Country      E92000001        England  Age-standardised\n",
       "4            Country      E92000001        England  Age-standardised\n",
       "...              ...            ...            ...               ...\n",
       "35025        Country      E92000001        England  Age-standardised\n",
       "35026        Country      E92000001        England  Age-standardised\n",
       "35027        Country      E92000001        England  Age-standardised\n",
       "35028        Country      E92000001        England  Age-standardised\n",
       "35029        Country      E92000001        England  Age-standardised\n",
       "\n",
       "[35030 rows x 4 columns]"
      ]
     },
     "execution_count": 27,
     "metadata": {},
     "output_type": "execute_result"
    }
   ],
   "source": [
    "df_clean[['geography_type', 'geography_code', 'geography_name', 'type_of_rate']]"
   ]
  },
  {
   "cell_type": "code",
   "execution_count": 28,
   "id": "61606029-31ca-45b5-8d4e-b30c85ca9704",
   "metadata": {},
   "outputs": [
    {
     "name": "stdout",
     "output_type": "stream",
     "text": [
      "1\n",
      "1\n",
      "1\n",
      "1\n"
     ]
    }
   ],
   "source": [
    "print(df['geography_type'].nunique())\n",
    "print(df['geography_code'].nunique())\n",
    "print(df['geography_name'].nunique())\n",
    "print(df['type_of_rate'].nunique())"
   ]
  },
  {
   "cell_type": "code",
   "execution_count": 29,
   "id": "0553e001-924f-4c71-86f8-d8ca82636e2b",
   "metadata": {},
   "outputs": [],
   "source": [
    "df_clean = df_clean.drop(columns=['geography_type', 'geography_code', 'geography_name', 'type_of_rate'])"
   ]
  },
  {
   "cell_type": "markdown",
   "id": "ed6d3dac-c31b-44cf-971b-13047d15a206",
   "metadata": {},
   "source": [
    "✅The columns geography_type, geography_code, geography_name, age_at_diagnosis, and type_of_rate were constant across all rows (e.g., always \"England\", \"Age-standardised\"). Since they did not provide variation or add analytical value, they were removed. These details are still important as dataset context, but they do not affect the analysis."
   ]
  },
  {
   "cell_type": "code",
   "execution_count": 30,
   "id": "56c42015-8da9-4b74-8707-9e64f5c0faaf",
   "metadata": {},
   "outputs": [
    {
     "data": {
      "text/plain": [
       "Index(['diagnosisyear', 'ndrs_main_group', 'ndrs_detailed_group',\n",
       "       'stage_at_diagnosis', 'imd_quintile', 'hormone_receptor',\n",
       "       'hormone_receptor_status', 'gender', 'count', 'Population', 'rate'],\n",
       "      dtype='object')"
      ]
     },
     "execution_count": 30,
     "metadata": {},
     "output_type": "execute_result"
    }
   ],
   "source": [
    "df_clean.columns"
   ]
  },
  {
   "cell_type": "markdown",
   "id": "4c07674f-f732-4433-9573-1df4f51a800c",
   "metadata": {},
   "source": [
    "### Pivot Tables"
   ]
  },
  {
   "cell_type": "code",
   "execution_count": 31,
   "id": "a38dbfee-c133-43ef-8e37-95eb7d3650e8",
   "metadata": {},
   "outputs": [],
   "source": [
    "df_clean_rows = df_clean[df_clean['imd_quintile'].isin(['1 - most deprived', '2', '3', '4', '5 - least deprived'])].copy()\n",
    "\n",
    "df_pivot = df_clean_rows.pivot_table(\n",
    "    index=['diagnosisyear', 'ndrs_main_group', 'ndrs_detailed_group', \n",
    "           'stage_at_diagnosis', 'imd_quintile'],\n",
    "    columns='gender',\n",
    "    values='count',\n",
    "    aggfunc='sum', \n",
    "    fill_value=0).reset_index()\n",
    "\n",
    "df_pivot = df_pivot.rename(columns={\n",
    "    'Males': 'Male_count',\n",
    "    'Females': 'Female_count',\n",
    "    'Persons': 'Persons_count'})"
   ]
  },
  {
   "cell_type": "code",
   "execution_count": 32,
   "id": "3f53cb15-3071-4fc6-ae38-afe7a997cef1",
   "metadata": {},
   "outputs": [
    {
     "data": {
      "text/html": [
       "<div>\n",
       "<style scoped>\n",
       "    .dataframe tbody tr th:only-of-type {\n",
       "        vertical-align: middle;\n",
       "    }\n",
       "\n",
       "    .dataframe tbody tr th {\n",
       "        vertical-align: top;\n",
       "    }\n",
       "\n",
       "    .dataframe thead th {\n",
       "        text-align: right;\n",
       "    }\n",
       "</style>\n",
       "<table border=\"1\" class=\"dataframe\">\n",
       "  <thead>\n",
       "    <tr style=\"text-align: right;\">\n",
       "      <th>gender</th>\n",
       "      <th>diagnosisyear</th>\n",
       "      <th>ndrs_main_group</th>\n",
       "      <th>ndrs_detailed_group</th>\n",
       "      <th>stage_at_diagnosis</th>\n",
       "      <th>imd_quintile</th>\n",
       "      <th>Female_count</th>\n",
       "      <th>Male_count</th>\n",
       "      <th>Persons_count</th>\n",
       "    </tr>\n",
       "  </thead>\n",
       "  <tbody>\n",
       "    <tr>\n",
       "      <th>0</th>\n",
       "      <td>2013</td>\n",
       "      <td>Anus</td>\n",
       "      <td>All Anus</td>\n",
       "      <td>All stages</td>\n",
       "      <td>1 - most deprived</td>\n",
       "      <td>150</td>\n",
       "      <td>82</td>\n",
       "      <td>232</td>\n",
       "    </tr>\n",
       "    <tr>\n",
       "      <th>1</th>\n",
       "      <td>2013</td>\n",
       "      <td>Anus</td>\n",
       "      <td>All Anus</td>\n",
       "      <td>All stages</td>\n",
       "      <td>2</td>\n",
       "      <td>135</td>\n",
       "      <td>84</td>\n",
       "      <td>219</td>\n",
       "    </tr>\n",
       "    <tr>\n",
       "      <th>2</th>\n",
       "      <td>2013</td>\n",
       "      <td>Anus</td>\n",
       "      <td>All Anus</td>\n",
       "      <td>All stages</td>\n",
       "      <td>3</td>\n",
       "      <td>141</td>\n",
       "      <td>69</td>\n",
       "      <td>210</td>\n",
       "    </tr>\n",
       "    <tr>\n",
       "      <th>3</th>\n",
       "      <td>2013</td>\n",
       "      <td>Anus</td>\n",
       "      <td>All Anus</td>\n",
       "      <td>All stages</td>\n",
       "      <td>4</td>\n",
       "      <td>113</td>\n",
       "      <td>73</td>\n",
       "      <td>186</td>\n",
       "    </tr>\n",
       "    <tr>\n",
       "      <th>4</th>\n",
       "      <td>2013</td>\n",
       "      <td>Anus</td>\n",
       "      <td>All Anus</td>\n",
       "      <td>All stages</td>\n",
       "      <td>5 - least deprived</td>\n",
       "      <td>129</td>\n",
       "      <td>81</td>\n",
       "      <td>210</td>\n",
       "    </tr>\n",
       "  </tbody>\n",
       "</table>\n",
       "</div>"
      ],
      "text/plain": [
       "gender  diagnosisyear ndrs_main_group ndrs_detailed_group stage_at_diagnosis  \\\n",
       "0                2013            Anus            All Anus         All stages   \n",
       "1                2013            Anus            All Anus         All stages   \n",
       "2                2013            Anus            All Anus         All stages   \n",
       "3                2013            Anus            All Anus         All stages   \n",
       "4                2013            Anus            All Anus         All stages   \n",
       "\n",
       "gender        imd_quintile  Female_count  Male_count  Persons_count  \n",
       "0        1 - most deprived           150          82            232  \n",
       "1                        2           135          84            219  \n",
       "2                        3           141          69            210  \n",
       "3                        4           113          73            186  \n",
       "4       5 - least deprived           129          81            210  "
      ]
     },
     "execution_count": 32,
     "metadata": {},
     "output_type": "execute_result"
    }
   ],
   "source": [
    "df_pivot.head()"
   ]
  },
  {
   "cell_type": "raw",
   "id": "dfa5a9db-430b-4c2f-9823-d74b59736f12",
   "metadata": {},
   "source": [
    "✅ The dataset was cleaned by removing totals (like “All quintiles”) to avoid double-counting.\n",
    "\n",
    "✅ In the dataset, the count column is split across rows by gender (Males, Females, Persons). This makes it difficult to compare values directly. To make the data easier to analyze, a pivot table is created:\n",
    "    -The gender values (Males, Females, Persons) are spread into separate columns\n",
    "    -The count values are placed under these new columns."
   ]
  },
  {
   "cell_type": "code",
   "execution_count": 35,
   "id": "6eea066e-bb68-4f78-8da9-1f258b7e41e7",
   "metadata": {},
   "outputs": [],
   "source": [
    "df_pivot_rate = df_clean_rows.pivot_table(\n",
    "    index=['diagnosisyear', 'ndrs_main_group', 'ndrs_detailed_group', 'stage_at_diagnosis', 'imd_quintile'],\n",
    "    values=['count', 'Population', 'rate'],  aggfunc='first',  fill_value=0).reset_index()\n",
    "\n",
    "df_pivot_rate = df_pivot_rate.rename(columns={\n",
    "    'count': 'Persons_count'})"
   ]
  },
  {
   "cell_type": "code",
   "execution_count": 36,
   "id": "24015bae-3c92-4de8-912d-e566fe06734c",
   "metadata": {},
   "outputs": [
    {
     "data": {
      "text/html": [
       "<div>\n",
       "<style scoped>\n",
       "    .dataframe tbody tr th:only-of-type {\n",
       "        vertical-align: middle;\n",
       "    }\n",
       "\n",
       "    .dataframe tbody tr th {\n",
       "        vertical-align: top;\n",
       "    }\n",
       "\n",
       "    .dataframe thead th {\n",
       "        text-align: right;\n",
       "    }\n",
       "</style>\n",
       "<table border=\"1\" class=\"dataframe\">\n",
       "  <thead>\n",
       "    <tr style=\"text-align: right;\">\n",
       "      <th></th>\n",
       "      <th>diagnosisyear</th>\n",
       "      <th>ndrs_main_group</th>\n",
       "      <th>ndrs_detailed_group</th>\n",
       "      <th>stage_at_diagnosis</th>\n",
       "      <th>imd_quintile</th>\n",
       "      <th>Population</th>\n",
       "      <th>Persons_count</th>\n",
       "      <th>rate</th>\n",
       "    </tr>\n",
       "  </thead>\n",
       "  <tbody>\n",
       "    <tr>\n",
       "      <th>0</th>\n",
       "      <td>2013</td>\n",
       "      <td>Anus</td>\n",
       "      <td>All Anus</td>\n",
       "      <td>All stages</td>\n",
       "      <td>1 - most deprived</td>\n",
       "      <td>10887630</td>\n",
       "      <td>232</td>\n",
       "      <td>2.8</td>\n",
       "    </tr>\n",
       "    <tr>\n",
       "      <th>1</th>\n",
       "      <td>2013</td>\n",
       "      <td>Anus</td>\n",
       "      <td>All Anus</td>\n",
       "      <td>All stages</td>\n",
       "      <td>2</td>\n",
       "      <td>10952016</td>\n",
       "      <td>219</td>\n",
       "      <td>2.5</td>\n",
       "    </tr>\n",
       "    <tr>\n",
       "      <th>2</th>\n",
       "      <td>2013</td>\n",
       "      <td>Anus</td>\n",
       "      <td>All Anus</td>\n",
       "      <td>All stages</td>\n",
       "      <td>3</td>\n",
       "      <td>10815243</td>\n",
       "      <td>210</td>\n",
       "      <td>2.0</td>\n",
       "    </tr>\n",
       "    <tr>\n",
       "      <th>3</th>\n",
       "      <td>2013</td>\n",
       "      <td>Anus</td>\n",
       "      <td>All Anus</td>\n",
       "      <td>All stages</td>\n",
       "      <td>4</td>\n",
       "      <td>10649684</td>\n",
       "      <td>186</td>\n",
       "      <td>1.7</td>\n",
       "    </tr>\n",
       "    <tr>\n",
       "      <th>4</th>\n",
       "      <td>2013</td>\n",
       "      <td>Anus</td>\n",
       "      <td>All Anus</td>\n",
       "      <td>All stages</td>\n",
       "      <td>5 - least deprived</td>\n",
       "      <td>10614113</td>\n",
       "      <td>210</td>\n",
       "      <td>1.9</td>\n",
       "    </tr>\n",
       "  </tbody>\n",
       "</table>\n",
       "</div>"
      ],
      "text/plain": [
       "   diagnosisyear ndrs_main_group ndrs_detailed_group stage_at_diagnosis  \\\n",
       "0           2013            Anus            All Anus         All stages   \n",
       "1           2013            Anus            All Anus         All stages   \n",
       "2           2013            Anus            All Anus         All stages   \n",
       "3           2013            Anus            All Anus         All stages   \n",
       "4           2013            Anus            All Anus         All stages   \n",
       "\n",
       "         imd_quintile  Population  Persons_count  rate  \n",
       "0   1 - most deprived    10887630            232   2.8  \n",
       "1                   2    10952016            219   2.5  \n",
       "2                   3    10815243            210   2.0  \n",
       "3                   4    10649684            186   1.7  \n",
       "4  5 - least deprived    10614113            210   1.9  "
      ]
     },
     "execution_count": 36,
     "metadata": {},
     "output_type": "execute_result"
    }
   ],
   "source": [
    "df_pivot_rate.head()"
   ]
  },
  {
   "cell_type": "raw",
   "id": "090ab7eb-df23-480e-affc-801c785ca5a7",
   "metadata": {},
   "source": [
    "✅ The pivot table creates one row per year, cancer type, detailed group, stage, and IMD quintile, simplifying the dataset.\n",
    "\n",
    "✅ It includes total cases (Persons_count), population, and rate for each group, keeping the original dataset values intact.\n",
    "\n",
    "✅ This clean structure makes it easy to analyze trends, compare stages, or plot rates without dealing with multiple rows per group."
   ]
  },
  {
   "cell_type": "code",
   "execution_count": 37,
   "id": "17563e96-4e70-4f7a-a8a5-a733dcbe9c07",
   "metadata": {},
   "outputs": [],
   "source": [
    "df_totals = df_clean[df_clean['imd_quintile'] == \"All quintiles\"].copy()\n",
    "\n",
    "df_pivot_totals = df_totals.pivot_table(\n",
    "    index=['diagnosisyear', 'ndrs_main_group', 'ndrs_detailed_group', \n",
    "           'stage_at_diagnosis','imd_quintile'],\n",
    "    columns='gender',\n",
    "    values='count',\n",
    "    aggfunc='sum',\n",
    "    fill_value=0\n",
    ").reset_index()\n",
    "\n",
    "df_pivot_totals = df_pivot_totals.rename(columns={\n",
    "    'Males': 'Male_count',\n",
    "    'Females': 'Female_count',\n",
    "    'Persons': 'Persons_count'})\n",
    "\n",
    "df_pivot_totals = df_pivot_totals[df_pivot_totals['stage_at_diagnosis'] != 'All stages']"
   ]
  },
  {
   "cell_type": "code",
   "execution_count": 38,
   "id": "c29b41eb-bf04-4523-9082-3e32b80cf1b3",
   "metadata": {},
   "outputs": [
    {
     "data": {
      "text/html": [
       "<div>\n",
       "<style scoped>\n",
       "    .dataframe tbody tr th:only-of-type {\n",
       "        vertical-align: middle;\n",
       "    }\n",
       "\n",
       "    .dataframe tbody tr th {\n",
       "        vertical-align: top;\n",
       "    }\n",
       "\n",
       "    .dataframe thead th {\n",
       "        text-align: right;\n",
       "    }\n",
       "</style>\n",
       "<table border=\"1\" class=\"dataframe\">\n",
       "  <thead>\n",
       "    <tr style=\"text-align: right;\">\n",
       "      <th>gender</th>\n",
       "      <th>diagnosisyear</th>\n",
       "      <th>ndrs_main_group</th>\n",
       "      <th>ndrs_detailed_group</th>\n",
       "      <th>stage_at_diagnosis</th>\n",
       "      <th>imd_quintile</th>\n",
       "      <th>Female_count</th>\n",
       "      <th>Male_count</th>\n",
       "      <th>Persons_count</th>\n",
       "    </tr>\n",
       "  </thead>\n",
       "  <tbody>\n",
       "    <tr>\n",
       "      <th>1</th>\n",
       "      <td>2013</td>\n",
       "      <td>Anus</td>\n",
       "      <td>All Anus</td>\n",
       "      <td>Missing</td>\n",
       "      <td>All quintiles</td>\n",
       "      <td>244</td>\n",
       "      <td>170</td>\n",
       "      <td>414</td>\n",
       "    </tr>\n",
       "    <tr>\n",
       "      <th>2</th>\n",
       "      <td>2013</td>\n",
       "      <td>Anus</td>\n",
       "      <td>All Anus</td>\n",
       "      <td>Stage 1 &amp; 2</td>\n",
       "      <td>All quintiles</td>\n",
       "      <td>185</td>\n",
       "      <td>102</td>\n",
       "      <td>287</td>\n",
       "    </tr>\n",
       "    <tr>\n",
       "      <th>3</th>\n",
       "      <td>2013</td>\n",
       "      <td>Anus</td>\n",
       "      <td>All Anus</td>\n",
       "      <td>Stage 3 &amp; 4</td>\n",
       "      <td>All quintiles</td>\n",
       "      <td>224</td>\n",
       "      <td>109</td>\n",
       "      <td>333</td>\n",
       "    </tr>\n",
       "    <tr>\n",
       "      <th>4</th>\n",
       "      <td>2013</td>\n",
       "      <td>Anus</td>\n",
       "      <td>All Anus</td>\n",
       "      <td>Unstageable</td>\n",
       "      <td>All quintiles</td>\n",
       "      <td>15</td>\n",
       "      <td>8</td>\n",
       "      <td>23</td>\n",
       "    </tr>\n",
       "    <tr>\n",
       "      <th>6</th>\n",
       "      <td>2013</td>\n",
       "      <td>Bladder</td>\n",
       "      <td>All Bladder</td>\n",
       "      <td>Missing</td>\n",
       "      <td>All quintiles</td>\n",
       "      <td>719</td>\n",
       "      <td>1665</td>\n",
       "      <td>2384</td>\n",
       "    </tr>\n",
       "  </tbody>\n",
       "</table>\n",
       "</div>"
      ],
      "text/plain": [
       "gender  diagnosisyear ndrs_main_group ndrs_detailed_group stage_at_diagnosis  \\\n",
       "1                2013            Anus            All Anus            Missing   \n",
       "2                2013            Anus            All Anus        Stage 1 & 2   \n",
       "3                2013            Anus            All Anus        Stage 3 & 4   \n",
       "4                2013            Anus            All Anus        Unstageable   \n",
       "6                2013         Bladder         All Bladder            Missing   \n",
       "\n",
       "gender   imd_quintile  Female_count  Male_count  Persons_count  \n",
       "1       All quintiles           244         170            414  \n",
       "2       All quintiles           185         102            287  \n",
       "3       All quintiles           224         109            333  \n",
       "4       All quintiles            15           8             23  \n",
       "6       All quintiles           719        1665           2384  "
      ]
     },
     "execution_count": 38,
     "metadata": {},
     "output_type": "execute_result"
    }
   ],
   "source": [
    "df_pivot_totals.head(5)"
   ]
  },
  {
   "cell_type": "raw",
   "id": "2fdedf24-79f7-41d2-8db2-0c0e0182762a",
   "metadata": {},
   "source": [
    "✅ The dataset was filtered to keep only “All quintiles”, so it represents the overall population instead of splitting by deprivation levels.\n",
    "\n",
    "✅ Rows with \"All stages\" were removed to avoid double-counting and keep the table focused on specific stages only.\n",
    "\n",
    "✅ Each row now shows overall totals by year, cancer type, detailed group, and stage at diagnosis, with gender-specific counts side by side."
   ]
  },
  {
   "cell_type": "code",
   "execution_count": 39,
   "id": "c5d3ec79-a0fa-4a83-ba54-f1317858d864",
   "metadata": {},
   "outputs": [],
   "source": [
    "df_overall = df_clean[\n",
    "    (df_clean['imd_quintile'] == \"All quintiles\") &\n",
    "    (df_clean['stage_at_diagnosis'] == \"All stages\")].copy()\n",
    "\n",
    "df_pivot_overall = df_overall.pivot_table(\n",
    "    index=['diagnosisyear', 'ndrs_main_group', 'ndrs_detailed_group', 'imd_quintile', 'stage_at_diagnosis'],\n",
    "    columns='gender',\n",
    "    values='count',\n",
    "    aggfunc='sum',\n",
    "    fill_value=0).reset_index()\n",
    "\n",
    "df_pivot_overall = df_pivot_overall.rename(columns={\n",
    "    'Males': 'Male_count',\n",
    "    'Females': 'Female_count',\n",
    "    'Persons': 'Persons_count'})"
   ]
  },
  {
   "cell_type": "code",
   "execution_count": 40,
   "id": "6c6c2544-1169-4da9-ba82-e48be0b9f383",
   "metadata": {},
   "outputs": [
    {
     "data": {
      "text/html": [
       "<div>\n",
       "<style scoped>\n",
       "    .dataframe tbody tr th:only-of-type {\n",
       "        vertical-align: middle;\n",
       "    }\n",
       "\n",
       "    .dataframe tbody tr th {\n",
       "        vertical-align: top;\n",
       "    }\n",
       "\n",
       "    .dataframe thead th {\n",
       "        text-align: right;\n",
       "    }\n",
       "</style>\n",
       "<table border=\"1\" class=\"dataframe\">\n",
       "  <thead>\n",
       "    <tr style=\"text-align: right;\">\n",
       "      <th>gender</th>\n",
       "      <th>diagnosisyear</th>\n",
       "      <th>ndrs_main_group</th>\n",
       "      <th>ndrs_detailed_group</th>\n",
       "      <th>imd_quintile</th>\n",
       "      <th>stage_at_diagnosis</th>\n",
       "      <th>Female_count</th>\n",
       "      <th>Male_count</th>\n",
       "      <th>Persons_count</th>\n",
       "    </tr>\n",
       "  </thead>\n",
       "  <tbody>\n",
       "    <tr>\n",
       "      <th>0</th>\n",
       "      <td>2013</td>\n",
       "      <td>Anus</td>\n",
       "      <td>All Anus</td>\n",
       "      <td>All quintiles</td>\n",
       "      <td>All stages</td>\n",
       "      <td>668</td>\n",
       "      <td>389</td>\n",
       "      <td>1057</td>\n",
       "    </tr>\n",
       "    <tr>\n",
       "      <th>1</th>\n",
       "      <td>2013</td>\n",
       "      <td>Bladder</td>\n",
       "      <td>All Bladder</td>\n",
       "      <td>All quintiles</td>\n",
       "      <td>All stages</td>\n",
       "      <td>4762</td>\n",
       "      <td>13563</td>\n",
       "      <td>18325</td>\n",
       "    </tr>\n",
       "    <tr>\n",
       "      <th>2</th>\n",
       "      <td>2013</td>\n",
       "      <td>Bladder</td>\n",
       "      <td>Bladder - malignant or in situ</td>\n",
       "      <td>All quintiles</td>\n",
       "      <td>All stages</td>\n",
       "      <td>4668</td>\n",
       "      <td>13360</td>\n",
       "      <td>18028</td>\n",
       "    </tr>\n",
       "    <tr>\n",
       "      <th>3</th>\n",
       "      <td>2013</td>\n",
       "      <td>Bladder</td>\n",
       "      <td>Bladder - uncertain or unknown</td>\n",
       "      <td>All quintiles</td>\n",
       "      <td>All stages</td>\n",
       "      <td>94</td>\n",
       "      <td>203</td>\n",
       "      <td>297</td>\n",
       "    </tr>\n",
       "    <tr>\n",
       "      <th>4</th>\n",
       "      <td>2013</td>\n",
       "      <td>Blood cancer</td>\n",
       "      <td>Acute lymphoblastic leukaemia (ALL)</td>\n",
       "      <td>All quintiles</td>\n",
       "      <td>All stages</td>\n",
       "      <td>343</td>\n",
       "      <td>414</td>\n",
       "      <td>757</td>\n",
       "    </tr>\n",
       "  </tbody>\n",
       "</table>\n",
       "</div>"
      ],
      "text/plain": [
       "gender  diagnosisyear ndrs_main_group                  ndrs_detailed_group  \\\n",
       "0                2013            Anus                             All Anus   \n",
       "1                2013         Bladder                          All Bladder   \n",
       "2                2013         Bladder       Bladder - malignant or in situ   \n",
       "3                2013         Bladder       Bladder - uncertain or unknown   \n",
       "4                2013    Blood cancer  Acute lymphoblastic leukaemia (ALL)   \n",
       "\n",
       "gender   imd_quintile stage_at_diagnosis  Female_count  Male_count  \\\n",
       "0       All quintiles         All stages           668         389   \n",
       "1       All quintiles         All stages          4762       13563   \n",
       "2       All quintiles         All stages          4668       13360   \n",
       "3       All quintiles         All stages            94         203   \n",
       "4       All quintiles         All stages           343         414   \n",
       "\n",
       "gender  Persons_count  \n",
       "0                1057  \n",
       "1               18325  \n",
       "2               18028  \n",
       "3                 297  \n",
       "4                 757  "
      ]
     },
     "execution_count": 40,
     "metadata": {},
     "output_type": "execute_result"
    }
   ],
   "source": [
    "df_pivot_overall.head(5)"
   ]
  },
  {
   "cell_type": "raw",
   "id": "4da6ddae-0fe9-44e5-ae48-476846930220",
   "metadata": {},
   "source": [
    "✅ The dataset was filtered to include only “All quintiles” and “All stages”, giving true overall totals.\n",
    "\n",
    "✅ Originally, the count values were split across rows by gender (Males, Females, Persons), making comparisons harder.\n",
    "\n",
    "✅ A pivot table was created so that:\n",
    "    - Gender values are spread into separate columns (Male_count, Female_count, Persons_count).\n",
    "    - Each row shows the overall number of cases by year, cancer type, and detailed cancer group, with gender counts side by side.\n",
    "\n",
    "✅ This table is useful for producing high-level trends and comparisons across genders."
   ]
  },
  {
   "cell_type": "markdown",
   "id": "183cd76c-0288-4566-bbed-9b4be52d9207",
   "metadata": {},
   "source": [
    "## Filtering Functions"
   ]
  },
  {
   "cell_type": "code",
   "execution_count": 41,
   "id": "bfb434cf-247d-48b0-922f-d3a75c4d7895",
   "metadata": {},
   "outputs": [],
   "source": [
    "def show_subtypes(cancer_type):\n",
    "    filter_data = df_clean[df_clean['ndrs_main_group'] == cancer_type]\n",
    "    subtypes = filter_data['ndrs_detailed_group'].unique()\n",
    "    print(f\"Subtypes for {cancer_type}:\")\n",
    "    for i in subtypes:\n",
    "        print(\"-\", i)\n"
   ]
  },
  {
   "cell_type": "markdown",
   "id": "b3f4be27-9cb1-4289-b127-f0f9b071b615",
   "metadata": {},
   "source": [
    "✅ *Displays all available cancer subtypes in the dataset.*"
   ]
  },
  {
   "cell_type": "code",
   "execution_count": 42,
   "id": "ae97abe9-5a6d-46b5-953d-7fde4cc72960",
   "metadata": {},
   "outputs": [
    {
     "name": "stdout",
     "output_type": "stream",
     "text": [
      "Subtypes for Bladder:\n",
      "- All Bladder\n",
      "- Bladder - malignant or in situ\n",
      "- Bladder - uncertain or unknown\n"
     ]
    }
   ],
   "source": [
    "show_subtypes('Bladder')"
   ]
  },
  {
   "cell_type": "code",
   "execution_count": 43,
   "id": "611a8911-1fb9-4dfd-b5c4-bc37bfbb01b4",
   "metadata": {},
   "outputs": [],
   "source": [
    "def cancer_details_overall(cancer_type, gender_column=None):\n",
    "    filtered = df_pivot_overall[df_pivot_overall['ndrs_main_group'] == cancer_type]\n",
    "    \n",
    "    if gender_column:  \n",
    "        result = filtered.groupby('ndrs_detailed_group')[gender_column].sum()\n",
    "        print(f\"Detailed breakdown for {cancer_type} ({gender_column}):\")\n",
    "    else:  \n",
    "        result = filtered.groupby('ndrs_detailed_group')[['Male_count', 'Female_count', 'Persons_count']].sum()\n",
    "        print(f\"Detailed breakdown for {cancer_type} (All genders):\")\n",
    "    \n",
    "    print(result)"
   ]
  },
  {
   "cell_type": "code",
   "execution_count": 44,
   "id": "c7785dd9-f904-42a6-a550-57587206c958",
   "metadata": {},
   "outputs": [
    {
     "name": "stdout",
     "output_type": "stream",
     "text": [
      "Detailed breakdown for Blood cancer (Female_count):\n",
      "ndrs_detailed_group\n",
      "Acute lymphoblastic leukaemia (ALL)                                                     3038\n",
      "Acute myeloid leukaemia (AML)                                                           9802\n",
      "All Blood cancer                                                                      148883\n",
      "Chronic lymphocytic leukaemia (CLL) or small lymphocytic lymphoma (SLL)                14827\n",
      "Chronic myeloid leukaemia (CML)                                                         3136\n",
      "Chronic myelomonocytic leukaemia (CMML)                                                 1844\n",
      "Diffuse large B-cell lymphoma (DLBCL) and other high grade mature B-cell neoplasms     19611\n",
      "Essential thrombocythaemia (ET)                                                         8409\n",
      "Follicular lymphoma                                                                    11317\n",
      "Hodgkin lymphoma                                                                        7670\n",
      "Lymphoplasmacytic lymphoma (LPL) or Waldenstrom                                         2684\n",
      "Mantle cell lymphoma (MCL)                                                              1510\n",
      "Marginal zone lymphoma (nodal, extranodal, MALT)                                        5650\n",
      "Mature T-cell and NK-cell neoplasms                                                     4456\n",
      "Myelodysplastic syndromes (MDS)                                                        10145\n",
      "Myeloma                                                                                21420\n",
      "Other blood cancer                                                                     20052\n",
      "Polycythaemia vera (PCV)                                                                3312\n",
      "Name: Female_count, dtype: int64\n"
     ]
    }
   ],
   "source": [
    "cancer_details_overall('Blood cancer','Female_count')"
   ]
  },
  {
   "cell_type": "markdown",
   "id": "db956536-fe62-4237-a07f-3065a90d099d",
   "metadata": {},
   "source": [
    "✅ *Provides detailed information such as counts per subtype for a specific cancer type.*"
   ]
  },
  {
   "cell_type": "code",
   "execution_count": 45,
   "id": "71fb43a4-19da-41cd-880d-2023c087de90",
   "metadata": {},
   "outputs": [],
   "source": [
    "def filter_cancer_type(cancer_list):\n",
    "    filtered = df_pivot_overall[df_pivot_overall['ndrs_main_group'].isin(cancer_list)]\n",
    "    cases = filtered['Persons_count'].sum()\n",
    "    print(f\"Total number of cases for {cancer_list}:{cases}\")"
   ]
  },
  {
   "cell_type": "code",
   "execution_count": 46,
   "id": "05f79237-00d5-44bc-9ffe-25ec9a7d2a0e",
   "metadata": {},
   "outputs": [
    {
     "name": "stdout",
     "output_type": "stream",
     "text": [
      "Total number of cases for ['Lung']:787316\n"
     ]
    }
   ],
   "source": [
    "filter_cancer_type(['Lung'])"
   ]
  },
  {
   "cell_type": "markdown",
   "id": "21fe491b-7b9c-42f6-9b26-05213a5d5711",
   "metadata": {},
   "source": [
    "✅ *Filters the dataset for one or more specified cancer types.*"
   ]
  },
  {
   "cell_type": "code",
   "execution_count": 47,
   "id": "711b4a25-70c4-40b8-a75b-ffa1b8fc4d3e",
   "metadata": {},
   "outputs": [],
   "source": [
    "def filter_by_year(year):\n",
    "    filtered = df_pivot_overall[df_pivot_overall['diagnosisyear'].isin(year)]\n",
    "    total_cases = filtered['Persons_count'].sum()\n",
    "    print(f\"Total number of cases in {year}: {total_cases}\")"
   ]
  },
  {
   "cell_type": "code",
   "execution_count": 48,
   "id": "6c448e57-0370-4235-a6eb-23baca68020b",
   "metadata": {},
   "outputs": [
    {
     "name": "stdout",
     "output_type": "stream",
     "text": [
      "Total number of cases in [2013]: 1023330\n"
     ]
    }
   ],
   "source": [
    "filter_by_year([2013])"
   ]
  },
  {
   "cell_type": "markdown",
   "id": "f7874e88-7792-4792-8fff-0e1bf9d27116",
   "metadata": {},
   "source": [
    "✅ *Filters the dataset to include only cases from a given year.*"
   ]
  },
  {
   "cell_type": "code",
   "execution_count": 49,
   "id": "74404560-faa9-4c36-94cb-34c818ea0cb9",
   "metadata": {},
   "outputs": [],
   "source": [
    "def year_and_cancer(year, cancer_type, return_sum=False):\n",
    "    filtered = df_pivot_overall[\n",
    "        (df_pivot_overall['diagnosisyear'].isin(year)) &\n",
    "        (df_pivot_overall['ndrs_main_group'] == cancer_type)]\n",
    "    \n",
    "    total_cases = filtered['Persons_count'].sum()\n",
    "    \n",
    "    if return_sum:\n",
    "        print(f\"Total {cancer_type} cases in {list(year)}: {total_cases}\")\n",
    "        return total_cases\n",
    "    else:\n",
    "        return filtered"
   ]
  },
  {
   "cell_type": "code",
   "execution_count": 50,
   "id": "6d4c9fd1-1513-4ca8-a489-18afd8c85d7e",
   "metadata": {},
   "outputs": [
    {
     "name": "stdout",
     "output_type": "stream",
     "text": [
      "Total Lung cases in [2015]: 76978\n"
     ]
    }
   ],
   "source": [
    "total = year_and_cancer([2015],'Lung',return_sum=True)"
   ]
  },
  {
   "cell_type": "code",
   "execution_count": 51,
   "id": "17d2b1dd-7f0c-4e4b-b1ea-f61663a7378f",
   "metadata": {},
   "outputs": [
    {
     "data": {
      "text/html": [
       "<div>\n",
       "<style scoped>\n",
       "    .dataframe tbody tr th:only-of-type {\n",
       "        vertical-align: middle;\n",
       "    }\n",
       "\n",
       "    .dataframe tbody tr th {\n",
       "        vertical-align: top;\n",
       "    }\n",
       "\n",
       "    .dataframe thead th {\n",
       "        text-align: right;\n",
       "    }\n",
       "</style>\n",
       "<table border=\"1\" class=\"dataframe\">\n",
       "  <thead>\n",
       "    <tr style=\"text-align: right;\">\n",
       "      <th>gender</th>\n",
       "      <th>diagnosisyear</th>\n",
       "      <th>ndrs_main_group</th>\n",
       "      <th>ndrs_detailed_group</th>\n",
       "      <th>imd_quintile</th>\n",
       "      <th>stage_at_diagnosis</th>\n",
       "      <th>Female_count</th>\n",
       "      <th>Male_count</th>\n",
       "      <th>Persons_count</th>\n",
       "    </tr>\n",
       "  </thead>\n",
       "  <tbody>\n",
       "    <tr>\n",
       "      <th>335</th>\n",
       "      <td>2015</td>\n",
       "      <td>Lung</td>\n",
       "      <td>All Lung</td>\n",
       "      <td>All quintiles</td>\n",
       "      <td>All stages</td>\n",
       "      <td>18060</td>\n",
       "      <td>20429</td>\n",
       "      <td>38489</td>\n",
       "    </tr>\n",
       "    <tr>\n",
       "      <th>336</th>\n",
       "      <td>2015</td>\n",
       "      <td>Lung</td>\n",
       "      <td>Non-small cell lung cancer</td>\n",
       "      <td>All quintiles</td>\n",
       "      <td>All stages</td>\n",
       "      <td>16210</td>\n",
       "      <td>18461</td>\n",
       "      <td>34671</td>\n",
       "    </tr>\n",
       "    <tr>\n",
       "      <th>337</th>\n",
       "      <td>2015</td>\n",
       "      <td>Lung</td>\n",
       "      <td>Small cell lung cancer</td>\n",
       "      <td>All quintiles</td>\n",
       "      <td>All stages</td>\n",
       "      <td>1850</td>\n",
       "      <td>1968</td>\n",
       "      <td>3818</td>\n",
       "    </tr>\n",
       "  </tbody>\n",
       "</table>\n",
       "</div>"
      ],
      "text/plain": [
       "gender  diagnosisyear ndrs_main_group         ndrs_detailed_group  \\\n",
       "335              2015            Lung                    All Lung   \n",
       "336              2015            Lung  Non-small cell lung cancer   \n",
       "337              2015            Lung      Small cell lung cancer   \n",
       "\n",
       "gender   imd_quintile stage_at_diagnosis  Female_count  Male_count  \\\n",
       "335     All quintiles         All stages         18060       20429   \n",
       "336     All quintiles         All stages         16210       18461   \n",
       "337     All quintiles         All stages          1850        1968   \n",
       "\n",
       "gender  Persons_count  \n",
       "335             38489  \n",
       "336             34671  \n",
       "337              3818  "
      ]
     },
     "execution_count": 51,
     "metadata": {},
     "output_type": "execute_result"
    }
   ],
   "source": [
    "year_and_cancer([2015],'Lung')"
   ]
  },
  {
   "cell_type": "markdown",
   "id": "74f88893-ac0d-4e3e-87f5-d9bce375516c",
   "metadata": {},
   "source": [
    "✅ *Retrieves records for a specific cancer type in a given year.*"
   ]
  },
  {
   "cell_type": "markdown",
   "id": "a100d61c-2339-4982-8f38-3c04b560c028",
   "metadata": {},
   "source": [
    "### Aggregation Functions"
   ]
  },
  {
   "cell_type": "code",
   "execution_count": 52,
   "id": "98408563-a6ae-41c3-ae6b-a1f3387f09b8",
   "metadata": {},
   "outputs": [],
   "source": [
    "def cases_by_year(cancer_type=None):\n",
    "    \n",
    "    if cancer_type:\n",
    "        filtered = df_pivot_overall[df_pivot_overall['ndrs_main_group'] == cancer_type]\n",
    "        yearly_cases = filtered.groupby('diagnosisyear')['Persons_count'].sum()\n",
    "        print(f\"Total {cancer_type} cases by year:\")\n",
    "    else:\n",
    "        yearly_cases = df_pivot_overall.groupby('diagnosisyear')['Persons_count'].sum()\n",
    "        print(\"Total cancer cases by year:\")\n",
    "    \n",
    "    return yearly_cases"
   ]
  },
  {
   "cell_type": "code",
   "execution_count": 53,
   "id": "7e4318e1-cd77-486a-9569-0ac68bce46a6",
   "metadata": {},
   "outputs": [
    {
     "name": "stdout",
     "output_type": "stream",
     "text": [
      "Total Breast cases by year:\n"
     ]
    },
    {
     "data": {
      "text/plain": [
       "diagnosisyear\n",
       "2013    183442\n",
       "2014    189126\n",
       "2015    187855\n",
       "2016    187372\n",
       "2017    187930\n",
       "2018    195381\n",
       "2019    196460\n",
       "2020    163586\n",
       "2021    202102\n",
       "2022    206463\n",
       "Name: Persons_count, dtype: int64"
      ]
     },
     "execution_count": 53,
     "metadata": {},
     "output_type": "execute_result"
    }
   ],
   "source": [
    "cases_by_year('Breast')"
   ]
  },
  {
   "cell_type": "code",
   "execution_count": 54,
   "id": "dfdda84d-0ca3-4c35-be72-017c39633ca0",
   "metadata": {},
   "outputs": [
    {
     "name": "stdout",
     "output_type": "stream",
     "text": [
      "Total cancer cases by year:\n"
     ]
    },
    {
     "data": {
      "text/plain": [
       "diagnosisyear\n",
       "2013    1023330\n",
       "2014    1056962\n",
       "2015    1085120\n",
       "2016    1107549\n",
       "2017    1115584\n",
       "2018    1146749\n",
       "2019    1170360\n",
       "2020    1007983\n",
       "2021    1148628\n",
       "2022    1202507\n",
       "Name: Persons_count, dtype: int64"
      ]
     },
     "execution_count": 54,
     "metadata": {},
     "output_type": "execute_result"
    }
   ],
   "source": [
    "cases_by_year()"
   ]
  },
  {
   "cell_type": "markdown",
   "id": "1162f86e-e198-48b9-9c16-ab74d47a3e8d",
   "metadata": {},
   "source": [
    "✅ *Aggregates and returns total cases grouped by year or by both year and cancer type.*"
   ]
  },
  {
   "cell_type": "code",
   "execution_count": 55,
   "id": "272d3bb9-f9d8-4583-afb7-8cde621a0d27",
   "metadata": {},
   "outputs": [],
   "source": [
    "def cases_by_gender():\n",
    "    total_males = df_pivot_overall['Male_count'].sum()\n",
    "    total_females = df_pivot_overall['Female_count'].sum()\n",
    "    total_persons = df_pivot_overall['Persons_count'].sum()\n",
    "\n",
    "    gender_cases = pd.DataFrame({\n",
    "        \"Gender\": [\"Male\", \"Female\", \"Persons\"],\n",
    "        \"Cases\": [total_males, total_females, total_persons]})\n",
    "    \n",
    "    return gender_cases    "
   ]
  },
  {
   "cell_type": "code",
   "execution_count": 56,
   "id": "e4fc5089-ecee-4048-b616-d6ca8cca084e",
   "metadata": {},
   "outputs": [
    {
     "data": {
      "text/html": [
       "<div>\n",
       "<style scoped>\n",
       "    .dataframe tbody tr th:only-of-type {\n",
       "        vertical-align: middle;\n",
       "    }\n",
       "\n",
       "    .dataframe tbody tr th {\n",
       "        vertical-align: top;\n",
       "    }\n",
       "\n",
       "    .dataframe thead th {\n",
       "        text-align: right;\n",
       "    }\n",
       "</style>\n",
       "<table border=\"1\" class=\"dataframe\">\n",
       "  <thead>\n",
       "    <tr style=\"text-align: right;\">\n",
       "      <th></th>\n",
       "      <th>Gender</th>\n",
       "      <th>Cases</th>\n",
       "    </tr>\n",
       "  </thead>\n",
       "  <tbody>\n",
       "    <tr>\n",
       "      <th>0</th>\n",
       "      <td>Male</td>\n",
       "      <td>5338116</td>\n",
       "    </tr>\n",
       "    <tr>\n",
       "      <th>1</th>\n",
       "      <td>Female</td>\n",
       "      <td>5726656</td>\n",
       "    </tr>\n",
       "    <tr>\n",
       "      <th>2</th>\n",
       "      <td>Persons</td>\n",
       "      <td>11064772</td>\n",
       "    </tr>\n",
       "  </tbody>\n",
       "</table>\n",
       "</div>"
      ],
      "text/plain": [
       "    Gender     Cases\n",
       "0     Male   5338116\n",
       "1   Female   5726656\n",
       "2  Persons  11064772"
      ]
     },
     "execution_count": 56,
     "metadata": {},
     "output_type": "execute_result"
    }
   ],
   "source": [
    "cases_by_gender()"
   ]
  },
  {
   "cell_type": "markdown",
   "id": "3236a160-c9cd-4622-9b51-516f5fc46846",
   "metadata": {},
   "source": [
    "✅ *Aggregates and returns total cases by gender.*"
   ]
  },
  {
   "cell_type": "code",
   "execution_count": 57,
   "id": "8de59563-18ea-4c4e-966b-66b34cefae21",
   "metadata": {},
   "outputs": [],
   "source": [
    "def yearlycases_by_gender(year):\n",
    "    filtered = df_pivot_overall[df_pivot_overall['diagnosisyear'] == year]\n",
    "    gender_cases = (filtered[['Male_count', 'Female_count', 'Persons_count']].sum().reset_index())\n",
    "    gender_cases.columns = ['Gender', 'Cases']\n",
    "    print(f\"Total cases by gender in {year}:\")\n",
    "    return gender_cases"
   ]
  },
  {
   "cell_type": "code",
   "execution_count": 58,
   "id": "432f9a7c-3946-472b-babc-77fa791f47ee",
   "metadata": {},
   "outputs": [
    {
     "name": "stdout",
     "output_type": "stream",
     "text": [
      "Total cases by gender in 2022:\n"
     ]
    },
    {
     "data": {
      "text/html": [
       "<div>\n",
       "<style scoped>\n",
       "    .dataframe tbody tr th:only-of-type {\n",
       "        vertical-align: middle;\n",
       "    }\n",
       "\n",
       "    .dataframe tbody tr th {\n",
       "        vertical-align: top;\n",
       "    }\n",
       "\n",
       "    .dataframe thead th {\n",
       "        text-align: right;\n",
       "    }\n",
       "</style>\n",
       "<table border=\"1\" class=\"dataframe\">\n",
       "  <thead>\n",
       "    <tr style=\"text-align: right;\">\n",
       "      <th></th>\n",
       "      <th>Gender</th>\n",
       "      <th>Cases</th>\n",
       "    </tr>\n",
       "  </thead>\n",
       "  <tbody>\n",
       "    <tr>\n",
       "      <th>0</th>\n",
       "      <td>Male_count</td>\n",
       "      <td>584321</td>\n",
       "    </tr>\n",
       "    <tr>\n",
       "      <th>1</th>\n",
       "      <td>Female_count</td>\n",
       "      <td>618186</td>\n",
       "    </tr>\n",
       "    <tr>\n",
       "      <th>2</th>\n",
       "      <td>Persons_count</td>\n",
       "      <td>1202507</td>\n",
       "    </tr>\n",
       "  </tbody>\n",
       "</table>\n",
       "</div>"
      ],
      "text/plain": [
       "          Gender    Cases\n",
       "0     Male_count   584321\n",
       "1   Female_count   618186\n",
       "2  Persons_count  1202507"
      ]
     },
     "execution_count": 58,
     "metadata": {},
     "output_type": "execute_result"
    }
   ],
   "source": [
    "yearlycases_by_gender(2022)"
   ]
  },
  {
   "cell_type": "markdown",
   "id": "b7973847-001e-4ece-a832-e4977ea86f16",
   "metadata": {},
   "source": [
    "✅ *Returns gender-wise case counts for a specific year.*"
   ]
  },
  {
   "cell_type": "code",
   "execution_count": 59,
   "id": "fcdd1d12-60c1-4bdf-9fe7-09f1d96eacff",
   "metadata": {},
   "outputs": [],
   "source": [
    "def cases_by_imd(year=None):\n",
    "   \n",
    "    if year is not None:\n",
    "        filtered = df_pivot[df_pivot['diagnosisyear'] == year]\n",
    "    else:\n",
    "        filtered = df_pivot.copy()\n",
    "    \n",
    "    imd_cases = filtered.groupby('imd_quintile')['Persons_count'].sum().reset_index()\n",
    "    \n",
    "    print(\"Cancer cases by IMD quintile\")\n",
    "    if year:\n",
    "        print(f\"(Year: {year})\")\n",
    "    return imd_cases"
   ]
  },
  {
   "cell_type": "markdown",
   "id": "232a6bfe-1230-4b1c-9942-52c7d164938d",
   "metadata": {},
   "source": [
    "✅ *Aggregates case counts based on deprivation quintile (IMD).*"
   ]
  },
  {
   "cell_type": "code",
   "execution_count": 60,
   "id": "bba21c7a-cb24-4f19-8ca0-034158dc2568",
   "metadata": {},
   "outputs": [
    {
     "name": "stdout",
     "output_type": "stream",
     "text": [
      "Cancer cases by IMD quintile\n",
      "(Year: 2013)\n"
     ]
    },
    {
     "data": {
      "text/html": [
       "<div>\n",
       "<style scoped>\n",
       "    .dataframe tbody tr th:only-of-type {\n",
       "        vertical-align: middle;\n",
       "    }\n",
       "\n",
       "    .dataframe tbody tr th {\n",
       "        vertical-align: top;\n",
       "    }\n",
       "\n",
       "    .dataframe thead th {\n",
       "        text-align: right;\n",
       "    }\n",
       "</style>\n",
       "<table border=\"1\" class=\"dataframe\">\n",
       "  <thead>\n",
       "    <tr style=\"text-align: right;\">\n",
       "      <th></th>\n",
       "      <th>imd_quintile</th>\n",
       "      <th>Persons_count</th>\n",
       "    </tr>\n",
       "  </thead>\n",
       "  <tbody>\n",
       "    <tr>\n",
       "      <th>0</th>\n",
       "      <td>1 - most deprived</td>\n",
       "      <td>137749</td>\n",
       "    </tr>\n",
       "    <tr>\n",
       "      <th>1</th>\n",
       "      <td>2</td>\n",
       "      <td>155725</td>\n",
       "    </tr>\n",
       "    <tr>\n",
       "      <th>2</th>\n",
       "      <td>3</td>\n",
       "      <td>184714</td>\n",
       "    </tr>\n",
       "    <tr>\n",
       "      <th>3</th>\n",
       "      <td>4</td>\n",
       "      <td>198178</td>\n",
       "    </tr>\n",
       "    <tr>\n",
       "      <th>4</th>\n",
       "      <td>5 - least deprived</td>\n",
       "      <td>208797</td>\n",
       "    </tr>\n",
       "  </tbody>\n",
       "</table>\n",
       "</div>"
      ],
      "text/plain": [
       "         imd_quintile  Persons_count\n",
       "0   1 - most deprived         137749\n",
       "1                   2         155725\n",
       "2                   3         184714\n",
       "3                   4         198178\n",
       "4  5 - least deprived         208797"
      ]
     },
     "execution_count": 60,
     "metadata": {},
     "output_type": "execute_result"
    }
   ],
   "source": [
    "cases_by_imd(2013)"
   ]
  },
  {
   "cell_type": "code",
   "execution_count": 61,
   "id": "4e2b375c-35b9-4bdf-ab46-9ce01ecd2472",
   "metadata": {},
   "outputs": [],
   "source": [
    "def compare_quintiles():\n",
    "    filtered = df_pivot[df_pivot['imd_quintile'].isin(['1 - most deprived', '2', '3', '4', '5 - least deprived'])]\n",
    "    imd_cases = filtered.groupby(['ndrs_main_group', 'imd_quintile'])['Persons_count'].sum().unstack().reset_index()\n",
    "    imd_cases.columns = ['Cancer Type', 'Quintile 1','Quintile 2','Quintile 3', 'Quintile 4', 'Quintile 5']\n",
    "    return imd_cases"
   ]
  },
  {
   "cell_type": "code",
   "execution_count": 62,
   "id": "a0369345-db58-4bfe-b13a-2bdb45d73c6e",
   "metadata": {},
   "outputs": [
    {
     "data": {
      "text/html": [
       "<div>\n",
       "<style scoped>\n",
       "    .dataframe tbody tr th:only-of-type {\n",
       "        vertical-align: middle;\n",
       "    }\n",
       "\n",
       "    .dataframe tbody tr th {\n",
       "        vertical-align: top;\n",
       "    }\n",
       "\n",
       "    .dataframe thead th {\n",
       "        text-align: right;\n",
       "    }\n",
       "</style>\n",
       "<table border=\"1\" class=\"dataframe\">\n",
       "  <thead>\n",
       "    <tr style=\"text-align: right;\">\n",
       "      <th></th>\n",
       "      <th>Cancer Type</th>\n",
       "      <th>Quintile 1</th>\n",
       "      <th>Quintile 2</th>\n",
       "      <th>Quintile 3</th>\n",
       "      <th>Quintile 4</th>\n",
       "      <th>Quintile 5</th>\n",
       "    </tr>\n",
       "  </thead>\n",
       "  <tbody>\n",
       "    <tr>\n",
       "      <th>0</th>\n",
       "      <td>Anus</td>\n",
       "      <td>2761</td>\n",
       "      <td>2647</td>\n",
       "      <td>2636</td>\n",
       "      <td>2457</td>\n",
       "      <td>2347</td>\n",
       "    </tr>\n",
       "    <tr>\n",
       "      <th>1</th>\n",
       "      <td>Bladder</td>\n",
       "      <td>60736</td>\n",
       "      <td>66424</td>\n",
       "      <td>76070</td>\n",
       "      <td>80586</td>\n",
       "      <td>79512</td>\n",
       "    </tr>\n",
       "    <tr>\n",
       "      <th>2</th>\n",
       "      <td>Blood cancer</td>\n",
       "      <td>113134</td>\n",
       "      <td>127336</td>\n",
       "      <td>144640</td>\n",
       "      <td>151912</td>\n",
       "      <td>156288</td>\n",
       "    </tr>\n",
       "    <tr>\n",
       "      <th>3</th>\n",
       "      <td>Bone sarcoma</td>\n",
       "      <td>2350</td>\n",
       "      <td>2400</td>\n",
       "      <td>2396</td>\n",
       "      <td>2472</td>\n",
       "      <td>2594</td>\n",
       "    </tr>\n",
       "    <tr>\n",
       "      <th>4</th>\n",
       "      <td>Bowel</td>\n",
       "      <td>119428</td>\n",
       "      <td>133648</td>\n",
       "      <td>152734</td>\n",
       "      <td>161616</td>\n",
       "      <td>164374</td>\n",
       "    </tr>\n",
       "  </tbody>\n",
       "</table>\n",
       "</div>"
      ],
      "text/plain": [
       "    Cancer Type  Quintile 1  Quintile 2  Quintile 3  Quintile 4  Quintile 5\n",
       "0          Anus        2761        2647        2636        2457        2347\n",
       "1       Bladder       60736       66424       76070       80586       79512\n",
       "2  Blood cancer      113134      127336      144640      151912      156288\n",
       "3  Bone sarcoma        2350        2400        2396        2472        2594\n",
       "4         Bowel      119428      133648      152734      161616      164374"
      ]
     },
     "execution_count": 62,
     "metadata": {},
     "output_type": "execute_result"
    }
   ],
   "source": [
    "compare_quintiles().head()"
   ]
  },
  {
   "cell_type": "markdown",
   "id": "bc981744-e2b9-4457-842e-6f3d817849f4",
   "metadata": {},
   "source": [
    "✅ *Compares case distributions across IMD quintiles.*"
   ]
  },
  {
   "cell_type": "code",
   "execution_count": 142,
   "id": "2044fce2-48a3-4bc0-bb8b-7db740ea450b",
   "metadata": {},
   "outputs": [],
   "source": [
    "def cases_by_cancer_stage(year, cancer_type, gender=\"Persons_count\"):\n",
    "    \n",
    "    filtered = df_pivot_totals[\n",
    "        (df_pivot_totals['diagnosisyear'] == year) &\n",
    "        (df_pivot_totals['ndrs_main_group'] == cancer_type)]\n",
    "\n",
    "    stage_cases = filtered.groupby(\"stage_at_diagnosis\")[gender].sum().reset_index()\n",
    "\n",
    "    print(f\"{gender} for {cancer_type} in {year} by stage:\")\n",
    "    return stage_cases"
   ]
  },
  {
   "cell_type": "code",
   "execution_count": 143,
   "id": "fd1533c9-0a29-48cd-9a03-85dc7d9a082d",
   "metadata": {},
   "outputs": [
    {
     "name": "stdout",
     "output_type": "stream",
     "text": [
      "Persons_count for Lung in 2022 by stage:\n"
     ]
    },
    {
     "data": {
      "text/html": [
       "<div>\n",
       "<style scoped>\n",
       "    .dataframe tbody tr th:only-of-type {\n",
       "        vertical-align: middle;\n",
       "    }\n",
       "\n",
       "    .dataframe tbody tr th {\n",
       "        vertical-align: top;\n",
       "    }\n",
       "\n",
       "    .dataframe thead th {\n",
       "        text-align: right;\n",
       "    }\n",
       "</style>\n",
       "<table border=\"1\" class=\"dataframe\">\n",
       "  <thead>\n",
       "    <tr style=\"text-align: right;\">\n",
       "      <th></th>\n",
       "      <th>stage_at_diagnosis</th>\n",
       "      <th>Persons_count</th>\n",
       "    </tr>\n",
       "  </thead>\n",
       "  <tbody>\n",
       "    <tr>\n",
       "      <th>0</th>\n",
       "      <td>Missing</td>\n",
       "      <td>11368</td>\n",
       "    </tr>\n",
       "    <tr>\n",
       "      <th>1</th>\n",
       "      <td>Stage 1 &amp; 2</td>\n",
       "      <td>24326</td>\n",
       "    </tr>\n",
       "    <tr>\n",
       "      <th>2</th>\n",
       "      <td>Stage 3 &amp; 4</td>\n",
       "      <td>47654</td>\n",
       "    </tr>\n",
       "    <tr>\n",
       "      <th>3</th>\n",
       "      <td>Unstageable</td>\n",
       "      <td>78</td>\n",
       "    </tr>\n",
       "  </tbody>\n",
       "</table>\n",
       "</div>"
      ],
      "text/plain": [
       "  stage_at_diagnosis  Persons_count\n",
       "0            Missing          11368\n",
       "1        Stage 1 & 2          24326\n",
       "2        Stage 3 & 4          47654\n",
       "3        Unstageable             78"
      ]
     },
     "execution_count": 143,
     "metadata": {},
     "output_type": "execute_result"
    }
   ],
   "source": [
    "cases_by_cancer_stage(2022,'Lung')"
   ]
  },
  {
   "cell_type": "code",
   "execution_count": 144,
   "id": "be85551e-20c5-44f3-8c77-38b38e746abf",
   "metadata": {},
   "outputs": [
    {
     "name": "stdout",
     "output_type": "stream",
     "text": [
      "Female_count for Lung in 2022 by stage:\n"
     ]
    },
    {
     "data": {
      "text/html": [
       "<div>\n",
       "<style scoped>\n",
       "    .dataframe tbody tr th:only-of-type {\n",
       "        vertical-align: middle;\n",
       "    }\n",
       "\n",
       "    .dataframe tbody tr th {\n",
       "        vertical-align: top;\n",
       "    }\n",
       "\n",
       "    .dataframe thead th {\n",
       "        text-align: right;\n",
       "    }\n",
       "</style>\n",
       "<table border=\"1\" class=\"dataframe\">\n",
       "  <thead>\n",
       "    <tr style=\"text-align: right;\">\n",
       "      <th></th>\n",
       "      <th>stage_at_diagnosis</th>\n",
       "      <th>Female_count</th>\n",
       "    </tr>\n",
       "  </thead>\n",
       "  <tbody>\n",
       "    <tr>\n",
       "      <th>0</th>\n",
       "      <td>Missing</td>\n",
       "      <td>5392</td>\n",
       "    </tr>\n",
       "    <tr>\n",
       "      <th>1</th>\n",
       "      <td>Stage 1 &amp; 2</td>\n",
       "      <td>13204</td>\n",
       "    </tr>\n",
       "    <tr>\n",
       "      <th>2</th>\n",
       "      <td>Stage 3 &amp; 4</td>\n",
       "      <td>22556</td>\n",
       "    </tr>\n",
       "    <tr>\n",
       "      <th>3</th>\n",
       "      <td>Unstageable</td>\n",
       "      <td>32</td>\n",
       "    </tr>\n",
       "  </tbody>\n",
       "</table>\n",
       "</div>"
      ],
      "text/plain": [
       "  stage_at_diagnosis  Female_count\n",
       "0            Missing          5392\n",
       "1        Stage 1 & 2         13204\n",
       "2        Stage 3 & 4         22556\n",
       "3        Unstageable            32"
      ]
     },
     "execution_count": 144,
     "metadata": {},
     "output_type": "execute_result"
    }
   ],
   "source": [
    "cases_by_cancer_stage(2022,'Lung','Female_count')"
   ]
  },
  {
   "cell_type": "markdown",
   "id": "d4ff30b4-df68-4631-8441-f537f341c881",
   "metadata": {},
   "source": [
    "## Univariate Analysis"
   ]
  },
  {
   "cell_type": "code",
   "execution_count": 67,
   "id": "ef587a58-372e-4c0f-b0e3-4928cc7c18c0",
   "metadata": {},
   "outputs": [],
   "source": [
    "import matplotlib.pyplot as plt\n",
    "import seaborn as sns"
   ]
  },
  {
   "cell_type": "code",
   "execution_count": 68,
   "id": "0523805b-2366-4923-b9d3-bc2e732c34b7",
   "metadata": {},
   "outputs": [],
   "source": [
    "plt.rcParams.update({\n",
    "    \"figure.facecolor\": \"white\",\n",
    "    \"axes.facecolor\": \"white\",\n",
    "    \"axes.edgecolor\": \"#444444\",\n",
    "    \"axes.labelcolor\": \"#444444\",\n",
    "    \"xtick.color\": \"#444444\",\n",
    "    \"ytick.color\": \"#444444\",\n",
    "    \"grid.color\": \"#cccccc\",\n",
    "    \"axes.titleweight\": \"bold\",\n",
    "    \"axes.titlesize\": 14,\n",
    "    \"axes.labelsize\": 12,\n",
    "    \"axes.prop_cycle\": plt.cycler(color=[\"#1f77b4\", \"#2ca02c\", \"#ff7f0e\"])})"
   ]
  },
  {
   "cell_type": "raw",
   "id": "34616433-32ee-4e7a-82ee-3982a147b4f1",
   "metadata": {},
   "source": [
    "I updated matplotlib’s default style settings (rcParams) to ensure all visualizations have a consistent, clean, and professional appearance. This avoids repetitive formatting in each plot and improves readability."
   ]
  },
  {
   "cell_type": "markdown",
   "id": "5a15b1e9-bd0e-4add-9d26-4e101112769f",
   "metadata": {},
   "source": [
    "## Cancer Case Distribution (2013-2022)"
   ]
  },
  {
   "cell_type": "code",
   "execution_count": 69,
   "id": "b2d25f67-3ec7-4cff-93f6-889c285fc0b3",
   "metadata": {},
   "outputs": [
    {
     "name": "stdout",
     "output_type": "stream",
     "text": [
      "ndrs_main_group\n",
      "Anus                                                   12848\n",
      "Bladder                                               363328\n",
      "Blood cancer                                          693310\n",
      "Bone sarcoma                                           12212\n",
      "Bowel                                                 731800\n",
      "Brain                                                 208040\n",
      "Breast                                               1899717\n",
      "Cancer of unknown primary                             133688\n",
      "Cervix                                                 26355\n",
      "Endocrine glands excluding brain                       71982\n",
      "Eye                                                     7397\n",
      "Head and neck                                         202656\n",
      "Heart, mediastinum, pleura, other and ill-defined       1303\n",
      "Kidney                                                195512\n",
      "Liver and biliary tract                               148062\n",
      "Lung                                                  787316\n",
      "Mesothelioma                                           23092\n",
      "Oesophagus                                            163802\n",
      "Ovary                                                 139914\n",
      "Pancreas                                              181218\n",
      "Prostate                                              444059\n",
      "Renal pelvis and ureter                                46622\n",
      "Skin cancer                                          4159916\n",
      "Small intestine                                        15778\n",
      "Soft tissue sarcoma                                    88080\n",
      "Stomach                                                97750\n",
      "Testes                                                 39600\n",
      "Thymus                                                  2982\n",
      "Urethra                                                 3939\n",
      "Uterus                                                160332\n",
      "Vagina                                                  2162\n",
      "Name: Persons_count, dtype: int64\n"
     ]
    }
   ],
   "source": [
    "cases = df_pivot_overall.groupby(\"ndrs_main_group\")[\"Persons_count\"].sum()\n",
    "print(cases)"
   ]
  },
  {
   "cell_type": "markdown",
   "id": "d1e264d0-7d97-4176-abf9-1c010e2d459a",
   "metadata": {},
   "source": [
    "🔝 **Most common cancers**\n",
    "\n",
    "Skin cancer dominates with around 4.16M cases, far exceeding all others.\n",
    "Breast cancer (approx. 1.90M), Lung cancer (approx. 787K), Bowel cancer (approx. 732K), and Blood cancer (approx. 693K) also show very high incidence.\n",
    "\n",
    "📈 **Moderately common cancers (hundreds of thousands)**\n",
    "\n",
    "Prostate (approx. 444K), Bladder (approx. 363K), Uterus (approx. 160K), Pancreas (approx. 181K), Kidney (approx. 196K), Oesophagus (approx. 164K), Ovary (approx. 140K), Brain (approx. 208K)\n",
    "\n",
    "📉 **Less common cancers (tens of thousands to approx. 120K)**\n",
    "\n",
    "Cervix (approx. 26K), Stomach (approx. 98K), Soft tissue sarcoma (approx. 88K), Renal pelvis & ureter (approx. 47K), Mesothelioma (approx. 23K), Endocrine glands (excl. brain) (approx. 72K), Head and neck (approx. 203K)\n",
    "\n",
    "🧬 **Rare cancers (<20K cases)**\n",
    "\n",
    "Vagina (approx. 2K), Thymus (approx. 3K), Urethra (approx. 4K), Eye (approx. 7K), Small intestine (approx. 16K), Anus (approx. 13K), Bone sarcoma (approx. 12K)\n",
    "\n",
    "⚠️ **Ill-defined / uncertain categories**\n",
    "\n",
    "Cancer of unknown primary (approx. 134K)\n",
    "Heart, mediastinum, pleura, other, ill-defined (approx. 1.3K)\n",
    "These represent ambiguous or unclassified cases where the exact cancer origin was not clearly identified."
   ]
  },
  {
   "cell_type": "code",
   "execution_count": 70,
   "id": "b92ed5a9-ec17-4655-b31d-4e9fe464129a",
   "metadata": {},
   "outputs": [
    {
     "data": {
      "image/png": "[encoded data removed]",
      "text/plain": [
       "<Figure size 640x480 with 1 Axes>"
      ]
     },
     "metadata": {},
     "output_type": "display_data"
    }
   ],
   "source": [
    "cases.plot(kind=\"bar\")\n",
    "plt.title(\"Cases by Cancer Type\")\n",
    "plt.ylabel(\"Number of Cases (in millions)\")\n",
    "plt.xlabel(\"\") \n",
    "plt.show()"
   ]
  },
  {
   "cell_type": "markdown",
   "id": "bd2f980d-b121-4293-a1cb-bfc0422d1d25",
   "metadata": {},
   "source": [
    "## Trend in Total Cancer Cases (2013–2022)"
   ]
  },
  {
   "cell_type": "code",
   "execution_count": 71,
   "id": "16c75d27-3beb-4b48-8e0a-8f60fd3813c7",
   "metadata": {},
   "outputs": [
    {
     "name": "stdout",
     "output_type": "stream",
     "text": [
      "Total cancer cases by year:\n"
     ]
    },
    {
     "data": {
      "image/png": "[encoded data removed]",
      "text/plain": [
       "<Figure size 640x480 with 1 Axes>"
      ]
     },
     "metadata": {},
     "output_type": "display_data"
    }
   ],
   "source": [
    "cases_by_year().plot(kind=\"line\", marker=\"o\", title=\"Cancer Trends Over Time\")\n",
    "plt.xlabel(\"Diagnosis Year\") \n",
    "plt.show()"
   ]
  },
  {
   "cell_type": "raw",
   "id": "ef7a82a0-66e4-4e13-867e-098360a00822",
   "metadata": {},
   "source": [
    "📊 Between 2013 and 2019, the number of cancer cases in England rose steadily from 1.02 million in 2013 to 1.17 million in 2019.\n",
    "📊 In 2020, there was a sharp decline to 1.01 million cases, likely reflecting the impact of the COVID-19 pandemic on cancer diagnoses and reporting.\n",
    "📊 From 2021 onwards, cases rebounded, reaching 1.20 million in 2022, the highest level in the decade.\n",
    "📊 Overall, despite the dip in 2020, the long-term trend is upward, with cancer cases increasing by roughly 17.5% between 2013 and 2022."
   ]
  },
  {
   "cell_type": "markdown",
   "id": "4f809d4f-3ccb-4f7b-acca-dac5fc045a10",
   "metadata": {},
   "source": [
    "## Total Cancer Cases by Gender"
   ]
  },
  {
   "cell_type": "code",
   "execution_count": 72,
   "id": "80bac001-d21e-4763-8522-6b515cd4578d",
   "metadata": {},
   "outputs": [
    {
     "data": {
      "image/png": "[encoded data removed]",
      "text/plain": [
       "<Figure size 640x480 with 1 Axes>"
      ]
     },
     "metadata": {},
     "output_type": "display_data"
    }
   ],
   "source": [
    "gender_cases = cases_by_gender()\n",
    "\n",
    "gender_cases = gender_cases[gender_cases[\"Gender\"] != \"Persons\"]\n",
    "\n",
    "gender_cases.plot(kind='bar', x=\"Gender\", y=\"Cases\", color=['steelblue', 'lightcoral'], legend=False)\n",
    "plt.title(\"Cancer Cases by Gender\")\n",
    "plt.xlabel(\"\")\n",
    "plt.xticks(rotation=360)\n",
    "plt.ylabel(\"Number of Cases\")\n",
    "plt.show()"
   ]
  },
  {
   "cell_type": "raw",
   "id": "96610304-2a6f-491f-be41-f9f9c683d491",
   "metadata": {},
   "source": [
    "👨 Males account for 5.34M cases (48%), while\n",
    "👩 Females account for 5.73M cases (52%).\n",
    "\n",
    "👥 The overall distribution shows a slightly higher cancer burden among females across the decade.\n",
    "👥 Combined, there were 11.06M cancer cases recorded between 2013 and 2022."
   ]
  },
  {
   "cell_type": "markdown",
   "id": "02c11717-c63e-4160-b518-00804656564f",
   "metadata": {},
   "source": [
    "## Cancer Cases by IMD Quintile (2013–2022)"
   ]
  },
  {
   "cell_type": "code",
   "execution_count": 73,
   "id": "356be252-f79a-4df7-850a-360ce63f089b",
   "metadata": {},
   "outputs": [
    {
     "name": "stdout",
     "output_type": "stream",
     "text": [
      "Cancer cases by IMD quintile\n"
     ]
    },
    {
     "data": {
      "text/html": [
       "<div>\n",
       "<style scoped>\n",
       "    .dataframe tbody tr th:only-of-type {\n",
       "        vertical-align: middle;\n",
       "    }\n",
       "\n",
       "    .dataframe tbody tr th {\n",
       "        vertical-align: top;\n",
       "    }\n",
       "\n",
       "    .dataframe thead th {\n",
       "        text-align: right;\n",
       "    }\n",
       "</style>\n",
       "<table border=\"1\" class=\"dataframe\">\n",
       "  <thead>\n",
       "    <tr style=\"text-align: right;\">\n",
       "      <th></th>\n",
       "      <th>imd_quintile</th>\n",
       "      <th>Persons_count</th>\n",
       "    </tr>\n",
       "  </thead>\n",
       "  <tbody>\n",
       "    <tr>\n",
       "      <th>0</th>\n",
       "      <td>1 - most deprived</td>\n",
       "      <td>1471380</td>\n",
       "    </tr>\n",
       "    <tr>\n",
       "      <th>1</th>\n",
       "      <td>2</td>\n",
       "      <td>1677054</td>\n",
       "    </tr>\n",
       "    <tr>\n",
       "      <th>2</th>\n",
       "      <td>3</td>\n",
       "      <td>1994106</td>\n",
       "    </tr>\n",
       "    <tr>\n",
       "      <th>3</th>\n",
       "      <td>4</td>\n",
       "      <td>2180049</td>\n",
       "    </tr>\n",
       "    <tr>\n",
       "      <th>4</th>\n",
       "      <td>5 - least deprived</td>\n",
       "      <td>2311220</td>\n",
       "    </tr>\n",
       "  </tbody>\n",
       "</table>\n",
       "</div>"
      ],
      "text/plain": [
       "         imd_quintile  Persons_count\n",
       "0   1 - most deprived        1471380\n",
       "1                   2        1677054\n",
       "2                   3        1994106\n",
       "3                   4        2180049\n",
       "4  5 - least deprived        2311220"
      ]
     },
     "execution_count": 73,
     "metadata": {},
     "output_type": "execute_result"
    }
   ],
   "source": [
    "cases_by_imd()"
   ]
  },
  {
   "cell_type": "code",
   "execution_count": 74,
   "id": "a414fee5-24c4-4150-8b10-2ff9c7959d1e",
   "metadata": {},
   "outputs": [
    {
     "name": "stdout",
     "output_type": "stream",
     "text": [
      "Cancer cases by IMD quintile\n"
     ]
    },
    {
     "data": {
      "image/png": "[encoded data removed]",
      "text/plain": [
       "<Figure size 640x480 with 1 Axes>"
      ]
     },
     "metadata": {},
     "output_type": "display_data"
    }
   ],
   "source": [
    "imd_cases = cases_by_imd()\n",
    "sns.barplot(x='imd_quintile', y='Persons_count', data=imd_cases, hue='imd_quintile', palette=\"viridis\", legend=False)\n",
    "plt.title(\"Cancer Cases by IMD Quintile\")\n",
    "plt.xlabel(\"IMD Quintiles\")\n",
    "plt.ylabel(\"Total Cases\")\n",
    "plt.show()"
   ]
  },
  {
   "cell_type": "raw",
   "id": "7a3989fb-f019-426a-affd-ea9677452b72",
   "metadata": {},
   "source": [
    "📊 Most deprived areas (Quintile 1): 1.47M cases\n",
    "\n",
    "📊 Least deprived areas (Quintile 5): 2.31M cases\n",
    "\n",
    "📊 There is a clear gradient: cancer cases rise steadily from the most deprived to the least deprived groups.\n",
    "\n",
    "📊 The least deprived quintile recorded ~57% more cases than the most deprived.\n",
    "\n",
    "📊 This pattern may partly reflect population distribution, with larger populations in less deprived areas contributing to higher case counts."
   ]
  },
  {
   "cell_type": "markdown",
   "id": "724ed277-9e80-4d8a-b623-e78817222d9c",
   "metadata": {},
   "source": [
    "## Cancer Incidence Rates by IMD Quintile (per 100k population)"
   ]
  },
  {
   "cell_type": "code",
   "execution_count": 75,
   "id": "21573c85-3c9d-489d-937a-75cc2e1021b8",
   "metadata": {},
   "outputs": [
    {
     "name": "stdout",
     "output_type": "stream",
     "text": [
      "         imd_quintile       rate\n",
      "0   1 - most deprived  14.100152\n",
      "1                   2  13.919924\n",
      "2                   3  14.238333\n",
      "3                   4  14.595455\n",
      "4  5 - least deprived  14.961439\n"
     ]
    }
   ],
   "source": [
    "imd_rate = df_pivot_rate.groupby('imd_quintile')['rate'].mean().reset_index()\n",
    "print(imd_rate)"
   ]
  },
  {
   "cell_type": "code",
   "execution_count": 76,
   "id": "0a92cf77-4aee-4b81-bb64-d622b7442b08",
   "metadata": {},
   "outputs": [
    {
     "data": {
      "image/png": "[encoded data removed]",
      "text/plain": [
       "<Figure size 800x500 with 1 Axes>"
      ]
     },
     "metadata": {},
     "output_type": "display_data"
    }
   ],
   "source": [
    "imd_rate = df_pivot_rate.groupby('imd_quintile')['rate'].mean().reset_index()\n",
    "\n",
    "plt.figure(figsize=(8,5))\n",
    "sns.barplot(x='imd_quintile', y='rate', data=imd_rate, hue = 'imd_quintile', palette=\"viridis\")\n",
    "plt.title(\"Average Cancer Rate by IMD Quintile\")\n",
    "plt.xlabel(\"IMD Quintiles\")\n",
    "plt.ylabel(\"Rate (per 100k population)\")\n",
    "plt.show()"
   ]
  },
  {
   "cell_type": "raw",
   "id": "50a37c74-c32b-4ecc-85fc-8b9e26a42e79",
   "metadata": {},
   "source": [
    "📊 Cancer rates gradually increase from the most deprived to the least deprived quintile.\n",
    "\n",
    "📊 Most deprived areas (Quintile 1) have a rate of 14.10 per 100k, while the least deprived areas (Quintile 5) have a rate of 14.96 per 100k.\n",
    "\n",
    "📊 This indicates a slightly higher observed cancer incidence in less deprived populations, even after accounting for population size."
   ]
  },
  {
   "cell_type": "markdown",
   "id": "12091dd0-d20e-460e-9315-914ff232ccf8",
   "metadata": {},
   "source": [
    "## Bivariate Analysis"
   ]
  },
  {
   "cell_type": "markdown",
   "id": "a2706581-ee4c-481f-acc9-767d67fcc6b6",
   "metadata": {},
   "source": [
    "## Breast Cancer Cases: Short-Term Trend (2018–2022)"
   ]
  },
  {
   "cell_type": "code",
   "execution_count": 91,
   "id": "62e06f12-83ff-4e0a-868c-d27426163c00",
   "metadata": {},
   "outputs": [
    {
     "name": "stdout",
     "output_type": "stream",
     "text": [
      "Total Breast cases in [2018, 2019, 2020, 2021]: 757529\n"
     ]
    }
   ],
   "source": [
    "total = year_and_cancer(range(2018, 2022), \"Breast\",return_sum = True)"
   ]
  },
  {
   "cell_type": "code",
   "execution_count": 94,
   "id": "df98cfec-a6a6-4789-9144-141c674a8608",
   "metadata": {},
   "outputs": [
    {
     "data": {
      "image/png": "[encoded data removed]",
      "text/plain": [
       "<Figure size 640x480 with 1 Axes>"
      ]
     },
     "metadata": {},
     "output_type": "display_data"
    }
   ],
   "source": [
    "filtered_df = year_and_cancer(range(2018,2022), \"Breast\")\n",
    "yearly_cases = filtered_df.groupby('diagnosisyear')['Persons_count'].sum().reset_index()\n",
    "sns.lineplot(x='diagnosisyear', y='Persons_count', data=yearly_cases, marker=\"o\")\n",
    "plt.title(\"Breast Cancer Trend (2018 -2022)\")\n",
    "plt.xlabel(\"Year\")\n",
    "plt.xticks(rotation=45)\n",
    "plt.ylabel(\"Number of Cases\")\n",
    "plt.show()"
   ]
  },
  {
   "cell_type": "raw",
   "id": "2820eb45-666c-45f5-a76b-31de80e56114",
   "metadata": {},
   "source": [
    "✅ Between 2018 and 2022, breast cancer cases remained relatively stable overall, but a notable dip occurred in 2020 (163,586 cases), likely linked to the COVID-19 pandemic’s impact on screening and diagnosis. Cases rebounded strongly in 2021 and 2022, exceeding pre-pandemic levels."
   ]
  },
  {
   "cell_type": "markdown",
   "id": "98d8961e-e292-47f0-afef-08d5fed4effe",
   "metadata": {},
   "source": [
    "## Cancer Cases by Gender (2018)"
   ]
  },
  {
   "cell_type": "code",
   "execution_count": 96,
   "id": "9b12eaba-753a-42eb-9c2a-a82df73bdb27",
   "metadata": {},
   "outputs": [
    {
     "name": "stdout",
     "output_type": "stream",
     "text": [
      "Total cases by gender in 2018:\n"
     ]
    },
    {
     "data": {
      "text/html": [
       "<div>\n",
       "<style scoped>\n",
       "    .dataframe tbody tr th:only-of-type {\n",
       "        vertical-align: middle;\n",
       "    }\n",
       "\n",
       "    .dataframe tbody tr th {\n",
       "        vertical-align: top;\n",
       "    }\n",
       "\n",
       "    .dataframe thead th {\n",
       "        text-align: right;\n",
       "    }\n",
       "</style>\n",
       "<table border=\"1\" class=\"dataframe\">\n",
       "  <thead>\n",
       "    <tr style=\"text-align: right;\">\n",
       "      <th></th>\n",
       "      <th>Gender</th>\n",
       "      <th>Cases</th>\n",
       "    </tr>\n",
       "  </thead>\n",
       "  <tbody>\n",
       "    <tr>\n",
       "      <th>0</th>\n",
       "      <td>Male_count</td>\n",
       "      <td>557538</td>\n",
       "    </tr>\n",
       "    <tr>\n",
       "      <th>1</th>\n",
       "      <td>Female_count</td>\n",
       "      <td>589211</td>\n",
       "    </tr>\n",
       "    <tr>\n",
       "      <th>2</th>\n",
       "      <td>Persons_count</td>\n",
       "      <td>1146749</td>\n",
       "    </tr>\n",
       "  </tbody>\n",
       "</table>\n",
       "</div>"
      ],
      "text/plain": [
       "          Gender    Cases\n",
       "0     Male_count   557538\n",
       "1   Female_count   589211\n",
       "2  Persons_count  1146749"
      ]
     },
     "execution_count": 96,
     "metadata": {},
     "output_type": "execute_result"
    }
   ],
   "source": [
    " yearlycases_by_gender(2018)"
   ]
  },
  {
   "cell_type": "code",
   "execution_count": 86,
   "id": "d61198b2-798a-49e0-98d7-213644dad163",
   "metadata": {},
   "outputs": [
    {
     "name": "stdout",
     "output_type": "stream",
     "text": [
      "Total cases by gender in 2018:\n"
     ]
    },
    {
     "data": {
      "image/png": "[encoded data removed]",
      "text/plain": [
       "<Figure size 640x480 with 1 Axes>"
      ]
     },
     "metadata": {},
     "output_type": "display_data"
    }
   ],
   "source": [
    "gender_cases = yearlycases_by_gender(2018)\n",
    "gender_cases = gender_cases[gender_cases['Gender'] != \"Persons_count\"]\n",
    "sns.barplot(x='Gender', y='Cases', data=gender_cases, hue='Gender', palette=\"Set2\", legend=False)\n",
    "plt.title(\"Cancer Cases by Gender in 2018\")\n",
    "plt.ylabel(\"Total Cases\")\n",
    "plt.xlabel(\"Gender\")\n",
    "plt.show()"
   ]
  },
  {
   "cell_type": "raw",
   "id": "a8e2604a-49a5-45e8-ac09-2ad21856c5b6",
   "metadata": {},
   "source": [
    "✅ In 2018, females accounted for slightly more cancer cases (589,211) compared to males (557,538).\n",
    "The Persons_count row represents the combined total of male and female cases. Since this value is already reflected in the gender-specific counts, it was excluded from the plot to avoid redundancy"
   ]
  },
  {
   "cell_type": "markdown",
   "id": "461e3111-65ee-49bf-927c-3a5554c12a11",
   "metadata": {},
   "source": [
    "## Distribution of Cancer Cases by Type and Socioeconomic Deprivation (IMD Quintiles)"
   ]
  },
  {
   "cell_type": "code",
   "execution_count": 103,
   "id": "6a76e31b-f3fb-4fd3-bb36-62e84ded3d74",
   "metadata": {},
   "outputs": [
    {
     "data": {
      "image/png": "[encoded data removed]",
      "text/plain": [
       "<Figure size 1000x800 with 1 Axes>"
      ]
     },
     "metadata": {},
     "output_type": "display_data"
    }
   ],
   "source": [
    "imd_cases = compare_quintiles()\n",
    "imd_cases = imd_cases.set_index('Cancer Type')\n",
    "imd_cases.plot(kind='bar', stacked=True, figsize=(10, 8),  colormap=\"viridis\")\n",
    "plt.title(\"Cancer Cases by IMD Quintiles\")\n",
    "plt.ylabel(\"Number of Cases\")\n",
    "plt.xlabel(\"Cancer Type\")\n",
    "plt.xticks(rotation=45, ha=\"right\")\n",
    "plt.legend(title=\"IMD Quintile\")\n",
    "plt.tight_layout()\n",
    "plt.show()"
   ]
  },
  {
   "cell_type": "raw",
   "id": "fc00cbe9-10f4-4fd5-ad99-1979398a0604",
   "metadata": {},
   "source": [
    "✅ This chart compares cancer cases across socioeconomic deprivation quintiles. "
   ]
  },
  {
   "cell_type": "markdown",
   "id": "8a31ba4a-b51d-47a9-92d6-0b874c012f2e",
   "metadata": {},
   "source": [
    "## Breast Cancer Cases by Stage at Diagnosis (2018)"
   ]
  },
  {
   "cell_type": "code",
   "execution_count": 107,
   "id": "ff97b8af-42f3-4afe-bd22-88c9cd9bb560",
   "metadata": {},
   "outputs": [
    {
     "name": "stdout",
     "output_type": "stream",
     "text": [
      "\n",
      "Persons_count cases for Breast in 2018 by stage:\n"
     ]
    },
    {
     "data": {
      "text/html": [
       "<div>\n",
       "<style scoped>\n",
       "    .dataframe tbody tr th:only-of-type {\n",
       "        vertical-align: middle;\n",
       "    }\n",
       "\n",
       "    .dataframe tbody tr th {\n",
       "        vertical-align: top;\n",
       "    }\n",
       "\n",
       "    .dataframe thead th {\n",
       "        text-align: right;\n",
       "    }\n",
       "</style>\n",
       "<table border=\"1\" class=\"dataframe\">\n",
       "  <thead>\n",
       "    <tr style=\"text-align: right;\">\n",
       "      <th></th>\n",
       "      <th>stage_at_diagnosis</th>\n",
       "      <th>Persons_count</th>\n",
       "    </tr>\n",
       "  </thead>\n",
       "  <tbody>\n",
       "    <tr>\n",
       "      <th>0</th>\n",
       "      <td>Missing</td>\n",
       "      <td>5128</td>\n",
       "    </tr>\n",
       "    <tr>\n",
       "      <th>1</th>\n",
       "      <td>Stage 1 &amp; 2</td>\n",
       "      <td>36699</td>\n",
       "    </tr>\n",
       "    <tr>\n",
       "      <th>2</th>\n",
       "      <td>Stage 3 &amp; 4</td>\n",
       "      <td>6280</td>\n",
       "    </tr>\n",
       "    <tr>\n",
       "      <th>3</th>\n",
       "      <td>Unstageable</td>\n",
       "      <td>91</td>\n",
       "    </tr>\n",
       "  </tbody>\n",
       "</table>\n",
       "</div>"
      ],
      "text/plain": [
       "  stage_at_diagnosis  Persons_count\n",
       "0            Missing           5128\n",
       "1        Stage 1 & 2          36699\n",
       "2        Stage 3 & 4           6280\n",
       "3        Unstageable             91"
      ]
     },
     "execution_count": 107,
     "metadata": {},
     "output_type": "execute_result"
    }
   ],
   "source": [
    "cases_by_cancer_stage(2018, \"Breast\", gender=\"Persons_count\")"
   ]
  },
  {
   "cell_type": "code",
   "execution_count": 108,
   "id": "bb885f5c-16c1-4f41-8b50-ea19a091cb60",
   "metadata": {},
   "outputs": [
    {
     "name": "stdout",
     "output_type": "stream",
     "text": [
      "\n",
      "Persons_count cases for Breast in 2018 by stage:\n"
     ]
    },
    {
     "data": {
      "image/png": "[encoded data removed]",
      "text/plain": [
       "<Figure size 640x480 with 1 Axes>"
      ]
     },
     "metadata": {},
     "output_type": "display_data"
    }
   ],
   "source": [
    "stage_cases = cases_by_cancer_stage(2018, \"Breast\", gender=\"Persons_count\")\n",
    "\n",
    "sns.barplot(x=\"stage_at_diagnosis\", y=\"Persons_count\", hue = 'stage_at_diagnosis', data=stage_cases, palette=\"Set2\")\n",
    "plt.title(\"Breast Cancer Cases by Stage at Diagnosis (2018)\")\n",
    "plt.xlabel(\"Stage at Diagnosis\")\n",
    "plt.ylabel(\"Number of Cases\")\n",
    "plt.show()"
   ]
  },
  {
   "cell_type": "raw",
   "id": "2f4b0441-077c-488b-8a1d-77ad72f077bf",
   "metadata": {},
   "source": [
    "✅ Most breast cancer cases in 2018 were diagnosed at early stages (Stage 1 & 2: 36,699), while 6,280 were detected at advanced stages (Stage 3 & 4). A notable portion (5,128 cases) lacked stage information, and 91 were unstageable."
   ]
  },
  {
   "cell_type": "markdown",
   "id": "720c2c76-90b8-4de7-b913-81db2247c61e",
   "metadata": {},
   "source": [
    "## Multivariate Analysis"
   ]
  },
  {
   "cell_type": "markdown",
   "id": "718ee88a-60a5-4856-af7b-aaba5af9e507",
   "metadata": {},
   "source": [
    "## Skin Cancer Trend by Gender (2013–2022)"
   ]
  },
  {
   "cell_type": "code",
   "execution_count": 113,
   "id": "f3182291-62b2-4430-9b4a-9739e0135aff",
   "metadata": {},
   "outputs": [
    {
     "data": {
      "image/png": "[encoded data removed]",
      "text/plain": [
       "<Figure size 640x480 with 1 Axes>"
      ]
     },
     "metadata": {},
     "output_type": "display_data"
    }
   ],
   "source": [
    "skin_cancer = df_pivot_overall[df_pivot_overall['ndrs_main_group'] == \"Skin cancer\"]\n",
    "\n",
    "sns.lineplot(x='diagnosisyear', y='Male_count', data=skin_cancer, marker=\"o\", label=\"Male\", color ='blue')\n",
    "sns.lineplot(x='diagnosisyear', y='Female_count', data=skin_cancer, marker=\"o\", label=\"Female\", color = 'lightcoral')\n",
    "\n",
    "plt.title(\"Skin Cancer Trend by Gender\")\n",
    "plt.ylabel(\"Cases\")\n",
    "plt.show() "
   ]
  },
  {
   "cell_type": "markdown",
   "id": "7931b377-9388-4822-8b54-1a282224b5c7",
   "metadata": {},
   "source": [
    "✅ This chart shows the trend of skin cancer cases for males and females over time. Both genders follow a similar upward trajectory, though case numbers are consistently higher in males. "
   ]
  },
  {
   "cell_type": "markdown",
   "id": "aad83e77-e23b-4d99-8773-24b44fb60dd1",
   "metadata": {},
   "source": [
    "## Gender-wise Distribution of Cancer Cases (2018)"
   ]
  },
  {
   "cell_type": "code",
   "execution_count": 120,
   "id": "84e70bb2-6ddd-4251-bf39-7783533c2db4",
   "metadata": {},
   "outputs": [
    {
     "data": {
      "image/png": "[encoded data removed]",
      "text/plain": [
       "<Figure size 640x480 with 1 Axes>"
      ]
     },
     "metadata": {},
     "output_type": "display_data"
    }
   ],
   "source": [
    "year = df_pivot_overall[df_pivot_overall['diagnosisyear'] == 2018].copy()\n",
    "sns.barplot(y='ndrs_main_group', x='Male_count', data=year, color=\"blue\", label=\"Male\", errorbar=None)\n",
    "sns.barplot(y='ndrs_main_group', x='Female_count', data=year, color=\"lightcoral\", label=\"Female\", errorbar=None)\n",
    "plt.xlabel(\"Number of Cases\")\n",
    "plt.ylabel(\"Cancer Type\")\n",
    "plt.legend()\n",
    "plt.title(\"Cancer Cases by Type and Gender (2018)\")\n",
    "plt.show() "
   ]
  },
  {
   "cell_type": "raw",
   "id": "fb1c99db-55fe-4fb7-9750-0d5cf138db2f",
   "metadata": {},
   "source": [
    "✅ In 2018, the highest cancer burden among men was Prostate Cancer with around 50,000 cases, while among women, Breast Cancer dominated with over 200,000 cases. Interestingly, although the overall trend shows higher Skin Cancer cases in men, in 2018 women reported significantly more cases than men, marking a notable deviation from the broader trend."
   ]
  },
  {
   "cell_type": "raw",
   "id": "c219b88d-b817-49ae-90c1-9ebafd80c34e",
   "metadata": {},
   "source": [
    "================================================ END OF PHASE 3 ==========================="
   ]
  },
  {
   "cell_type": "raw",
   "id": "7857b578-48e1-4c22-bfd0-b28121f0abe3",
   "metadata": {},
   "source": [
    "============================================================================\n",
    "in progress"
   ]
  },
  {
   "cell_type": "code",
   "execution_count": 136,
   "id": "24a547a6-df51-49d0-bb9a-8e411d736259",
   "metadata": {},
   "outputs": [
    {
     "data": {
      "image/png": "[encoded data removed]",
      "text/plain": [
       "<Figure size 640x480 with 1 Axes>"
      ]
     },
     "metadata": {},
     "output_type": "display_data"
    }
   ],
   "source": [
    "\n",
    "year = df_pivot_overall[df_pivot_overall['diagnosisyear'] == 2013].copy()\n",
    "\n",
    "\n",
    "year['Total_cases'] = year['Male_count'] + year['Female_count']\n",
    "top10 = year.groupby('ndrs_main_group')['Total_cases'].sum().nlargest(10).index\n",
    "\n",
    "subset = year[year['ndrs_main_group'].isin(top10)]\n",
    "\n",
    "sns.barplot(x='ndrs_main_group', y='Male_count', data=subset, color=\"blue\", label=\"Male\",errorbar=None)\n",
    "sns.barplot(x='ndrs_main_group', y='Female_count', data=subset, color=\"lightcoral\", label=\"Female\",errorbar=None)\n",
    "\n",
    "plt.xticks(rotation=45, ha=\"right\")\n",
    "plt.legend()\n",
    "plt.title(\"Top 10 Cancer Types by Gender (2013)\")\n",
    "plt.show()"
   ]
  },
  {
   "cell_type": "code",
   "execution_count": 137,
   "id": "9de591ff-5b75-422c-9857-70526147dbc6",
   "metadata": {},
   "outputs": [],
   "source": [
    "def top_cancers_by_gender(year, n=10):\n",
    "    year_df = df_pivot_overall[df_pivot_overall['diagnosisyear'] == year].copy()\n",
    "    year_df['Total_cases'] = year_df['Male_count'] + year_df['Female_count']\n",
    "    \n",
    "    top_cancers = year_df.groupby('ndrs_main_group')['Total_cases'].sum().nlargest(n).index\n",
    "    subset = year_df[year_df['ndrs_main_group'].isin(top_cancers)]\n",
    "    \n",
    "    \n",
    "    #plt.figure(figsize=(10,6))\n",
    "    sns.barplot(x='ndrs_main_group', y='Male_count', data=subset, color=\"blue\", label=\"Male\")\n",
    "    sns.barplot(x='ndrs_main_group', y='Female_count', data=subset, color=\"lightcoral\", label=\"Female\")\n",
    "    \n",
    "    plt.xticks(rotation=45, ha=\"right\")\n",
    "    plt.legend()\n",
    "    plt.title(f\"Top {n} Cancer Types by Gender ({year})\")\n",
    "    plt.ylabel(\"Number of Cases\")\n",
    "    plt.xlabel(\"Cancer Type\")\n",
    "    plt.tight_layout()\n",
    "    plt.show()"
   ]
  },
  {
   "cell_type": "code",
   "execution_count": 138,
   "id": "002d2d87-5d1e-4325-a22a-1df619b138a8",
   "metadata": {},
   "outputs": [
    {
     "data": {
      "image/png": "[encoded data removed]",
      "text/plain": [
       "<Figure size 640x480 with 1 Axes>"
      ]
     },
     "metadata": {},
     "output_type": "display_data"
    }
   ],
   "source": [
    "top_cancers_by_gender(2013, n=10)"
   ]
  },
  {
   "cell_type": "code",
   "execution_count": null,
   "id": "ed27766a-9b78-42d6-aaf5-b9896d028c37",
   "metadata": {},
   "outputs": [],
   "source": [
    "yearly_cases_all = cases_by_year('Breast')\n",
    "yearly_cases_all_df = yearly_cases_all.reset_index()\n",
    "\n",
    "sns.lineplot(\n",
    "    x='diagnosisyear',\n",
    "    y='Persons_count',\n",
    "    data=yearly_cases_all_df,\n",
    "    marker=\"o\"\n",
    ")\n",
    "plt.title(\"Trend Over the Years\")\n",
    "plt.xlabel(\"Year\")\n",
    "plt.ylabel(\"Number of Cases\")\n",
    "plt.show()\n"
   ]
  }
 ],
 "metadata": {
  "kernelspec": {
   "display_name": "Python [conda env:base] *",
   "language": "python",
   "name": "conda-base-py"
  },
  "language_info": {
   "codemirror_mode": {
    "name": "ipython",
    "version": 3
   },
   "file_extension": ".py",
   "mimetype": "text/x-python",
   "name": "python",
   "nbconvert_exporter": "python",
   "pygments_lexer": "ipython3",
   "version": "3.12.7"
  }
 },
 "nbformat": 4,
 "nbformat_minor": 5
}
