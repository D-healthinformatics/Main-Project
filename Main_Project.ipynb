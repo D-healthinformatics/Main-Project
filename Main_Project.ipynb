{
 "cells": [
  {
   "cell_type": "markdown",
   "id": "33a2eb8b-c65b-4b12-afef-3de1d20df58a",
   "metadata": {},
   "source": [
    "<h1 style=\"color:navy; text-align:center;\">Uncovering Cancer Trends in England: A Decade of NHS Insights</h1>\n"
   ]
  },
  {
   "cell_type": "markdown",
   "id": "d2822871-8464-4e23-a6bc-7640da1f746f",
   "metadata": {},
   "source": [
    "## 📖 Introduction"
   ]
  },
  {
   "cell_type": "markdown",
   "id": "92bb5303-d1c8-4815-8397-e448d6eb66d7",
   "metadata": {},
   "source": [
    "Cancer remains one of the most significant health challenges in England, affecting thousands of individuals each year. The NHS collects comprehensive data on cancer diagnoses, which provides valuable insights into patterns and trends across the population. This project analyzes NHS cancer statistics from 2013 to 2022, with a focus on factors such as cancer type, stage at diagnosis, gender, and the distribution of cases among different population groups. By examining these patterns, the project aims to understand how cancer incidence varies across the population and how it has evolved over the past decade. While the primary goal is to gain a deeper understanding of cancer trends, the insights generated could also help inform NHS strategies related to early detection, prevention, and improving patient outcomes. Through this analysis, the project seeks to uncover important trends, highlight areas of concern, and provide a data-driven perspective on how cancer impacts various segments of the population."
   ]
  },
  {
   "cell_type": "markdown",
   "id": "8ba90cca-8860-430b-b801-805afe53aa7c",
   "metadata": {},
   "source": [
    "## 🎯 Aim "
   ]
  },
  {
   "cell_type": "markdown",
   "id": "63882626-f119-4d17-97e1-6bf616e725fb",
   "metadata": {},
   "source": [
    "To analyze NHS cancer statistics from 2013 to 2022 in order to understand the distribution and trends of cancer incidence across different population groups, considering factors such as cancer type, stage at diagnosis, and gender, and to generate insights that could support a better understanding of how cancer affects the population."
   ]
  },
  {
   "cell_type": "markdown",
   "id": "ec188d07-e611-4ac1-a760-7d7a007cb4d8",
   "metadata": {},
   "source": [
    "## 🏥 Objective"
   ]
  },
  {
   "cell_type": "markdown",
   "id": "841da5cd-71c2-4536-a7f4-19f1f6254835",
   "metadata": {},
   "source": [
    "1. To explore and describe trends in cancer incidence over the past decade.\n",
    "\n",
    "2. To examine the distribution of different cancer types among various population groups.\n",
    "\n",
    "3. To analyze differences in cancer incidence between genders.\n",
    "\n",
    "4. To identify population groups that may be disproportionately affected by cancer.\n",
    "\n",
    "5. To provide visualizations and data-driven insights that help understand the overall cancer landscape in England."
   ]
  },
  {
   "cell_type": "markdown",
   "id": "62533c74-7021-43ec-975b-53c468e2fedc",
   "metadata": {},
   "source": [
    "## 💡Data Snapshot: Overview of the Data"
   ]
  },
  {
   "cell_type": "code",
   "execution_count": 1,
   "id": "75cd8cf6-45e4-42a7-9698-9aef1e6552c3",
   "metadata": {},
   "outputs": [],
   "source": [
    "import pandas as pd"
   ]
  },
  {
   "cell_type": "code",
   "execution_count": 3,
   "id": "702e0e97-29ac-4669-9a90-2c06bc79004e",
   "metadata": {},
   "outputs": [
    {
     "name": "stderr",
     "output_type": "stream",
     "text": [
      "C:\\Users\\Lenovo\\AppData\\Local\\Temp\\ipykernel_13596\\3578574885.py:1: DtypeWarning: Columns (8,9) have mixed types. Specify dtype option on import or set low_memory=False.\n",
      "  df = pd.read_csv(r\"C:\\Users\\Lenovo\\OneDrive\\Desktop\\Project\\NHS_CancerData.csv\")\n"
     ]
    }
   ],
   "source": [
    "df = pd.read_csv(r\"C:\\Users\\Lenovo\\OneDrive\\Desktop\\Project\\NHS_CancerData.csv\")"
   ]
  },
  {
   "cell_type": "code",
   "execution_count": 4,
   "id": "12118ab9-d8df-49be-8d1e-5d4b9fb3185e",
   "metadata": {},
   "outputs": [
    {
     "data": {
      "text/html": [
       "<div>\n",
       "<style scoped>\n",
       "    .dataframe tbody tr th:only-of-type {\n",
       "        vertical-align: middle;\n",
       "    }\n",
       "\n",
       "    .dataframe tbody tr th {\n",
       "        vertical-align: top;\n",
       "    }\n",
       "\n",
       "    .dataframe thead th {\n",
       "        text-align: right;\n",
       "    }\n",
       "</style>\n",
       "<table border=\"1\" class=\"dataframe\">\n",
       "  <thead>\n",
       "    <tr style=\"text-align: right;\">\n",
       "      <th></th>\n",
       "      <th>diagnosisyear</th>\n",
       "      <th>geography_type</th>\n",
       "      <th>geography_code</th>\n",
       "      <th>geography_name</th>\n",
       "      <th>ndrs_main_group</th>\n",
       "      <th>ndrs_detailed_group</th>\n",
       "      <th>stage_at_diagnosis</th>\n",
       "      <th>imd_quintile</th>\n",
       "      <th>hormone_receptor</th>\n",
       "      <th>hormone_receptor_status</th>\n",
       "      <th>gender</th>\n",
       "      <th>age_at_diagnosis</th>\n",
       "      <th>count</th>\n",
       "      <th>Population</th>\n",
       "      <th>type_of_rate</th>\n",
       "      <th>rate</th>\n",
       "      <th>lower_confidence_interval</th>\n",
       "      <th>upper_confidence_interval</th>\n",
       "      <th>flag</th>\n",
       "    </tr>\n",
       "  </thead>\n",
       "  <tbody>\n",
       "    <tr>\n",
       "      <th>0</th>\n",
       "      <td>2013</td>\n",
       "      <td>Country</td>\n",
       "      <td>E92000001</td>\n",
       "      <td>England</td>\n",
       "      <td>Anus</td>\n",
       "      <td>All Anus</td>\n",
       "      <td>All stages</td>\n",
       "      <td>All quintiles</td>\n",
       "      <td>NaN</td>\n",
       "      <td>NaN</td>\n",
       "      <td>Persons</td>\n",
       "      <td>All ages</td>\n",
       "      <td>1057</td>\n",
       "      <td>53918686</td>\n",
       "      <td>Age-standardised</td>\n",
       "      <td>2.1</td>\n",
       "      <td>2.0</td>\n",
       "      <td>2.3</td>\n",
       "      <td>NaN</td>\n",
       "    </tr>\n",
       "    <tr>\n",
       "      <th>1</th>\n",
       "      <td>2013</td>\n",
       "      <td>Country</td>\n",
       "      <td>E92000001</td>\n",
       "      <td>England</td>\n",
       "      <td>Anus</td>\n",
       "      <td>All Anus</td>\n",
       "      <td>All stages</td>\n",
       "      <td>All quintiles</td>\n",
       "      <td>NaN</td>\n",
       "      <td>NaN</td>\n",
       "      <td>Females</td>\n",
       "      <td>All ages</td>\n",
       "      <td>668</td>\n",
       "      <td>27410034</td>\n",
       "      <td>Age-standardised</td>\n",
       "      <td>2.6</td>\n",
       "      <td>2.4</td>\n",
       "      <td>2.8</td>\n",
       "      <td>NaN</td>\n",
       "    </tr>\n",
       "    <tr>\n",
       "      <th>2</th>\n",
       "      <td>2013</td>\n",
       "      <td>Country</td>\n",
       "      <td>E92000001</td>\n",
       "      <td>England</td>\n",
       "      <td>Anus</td>\n",
       "      <td>All Anus</td>\n",
       "      <td>All stages</td>\n",
       "      <td>All quintiles</td>\n",
       "      <td>NaN</td>\n",
       "      <td>NaN</td>\n",
       "      <td>Males</td>\n",
       "      <td>All ages</td>\n",
       "      <td>389</td>\n",
       "      <td>26508652</td>\n",
       "      <td>Age-standardised</td>\n",
       "      <td>1.7</td>\n",
       "      <td>1.5</td>\n",
       "      <td>1.9</td>\n",
       "      <td>NaN</td>\n",
       "    </tr>\n",
       "    <tr>\n",
       "      <th>3</th>\n",
       "      <td>2013</td>\n",
       "      <td>Country</td>\n",
       "      <td>E92000001</td>\n",
       "      <td>England</td>\n",
       "      <td>Anus</td>\n",
       "      <td>All Anus</td>\n",
       "      <td>All stages</td>\n",
       "      <td>1 - most deprived</td>\n",
       "      <td>NaN</td>\n",
       "      <td>NaN</td>\n",
       "      <td>Persons</td>\n",
       "      <td>All ages</td>\n",
       "      <td>232</td>\n",
       "      <td>10887630</td>\n",
       "      <td>Age-standardised</td>\n",
       "      <td>2.8</td>\n",
       "      <td>2.5</td>\n",
       "      <td>3.2</td>\n",
       "      <td>NaN</td>\n",
       "    </tr>\n",
       "    <tr>\n",
       "      <th>4</th>\n",
       "      <td>2013</td>\n",
       "      <td>Country</td>\n",
       "      <td>E92000001</td>\n",
       "      <td>England</td>\n",
       "      <td>Anus</td>\n",
       "      <td>All Anus</td>\n",
       "      <td>All stages</td>\n",
       "      <td>2</td>\n",
       "      <td>NaN</td>\n",
       "      <td>NaN</td>\n",
       "      <td>Persons</td>\n",
       "      <td>All ages</td>\n",
       "      <td>219</td>\n",
       "      <td>10952016</td>\n",
       "      <td>Age-standardised</td>\n",
       "      <td>2.5</td>\n",
       "      <td>2.2</td>\n",
       "      <td>2.8</td>\n",
       "      <td>NaN</td>\n",
       "    </tr>\n",
       "  </tbody>\n",
       "</table>\n",
       "</div>"
      ],
      "text/plain": [
       "   diagnosisyear geography_type geography_code geography_name ndrs_main_group  \\\n",
       "0           2013        Country      E92000001        England            Anus   \n",
       "1           2013        Country      E92000001        England            Anus   \n",
       "2           2013        Country      E92000001        England            Anus   \n",
       "3           2013        Country      E92000001        England            Anus   \n",
       "4           2013        Country      E92000001        England            Anus   \n",
       "\n",
       "  ndrs_detailed_group stage_at_diagnosis       imd_quintile hormone_receptor  \\\n",
       "0            All Anus         All stages      All quintiles              NaN   \n",
       "1            All Anus         All stages      All quintiles              NaN   \n",
       "2            All Anus         All stages      All quintiles              NaN   \n",
       "3            All Anus         All stages  1 - most deprived              NaN   \n",
       "4            All Anus         All stages                  2              NaN   \n",
       "\n",
       "  hormone_receptor_status   gender age_at_diagnosis  count  Population  \\\n",
       "0                     NaN  Persons         All ages   1057    53918686   \n",
       "1                     NaN  Females         All ages    668    27410034   \n",
       "2                     NaN    Males         All ages    389    26508652   \n",
       "3                     NaN  Persons         All ages    232    10887630   \n",
       "4                     NaN  Persons         All ages    219    10952016   \n",
       "\n",
       "       type_of_rate  rate  lower_confidence_interval  \\\n",
       "0  Age-standardised   2.1                        2.0   \n",
       "1  Age-standardised   2.6                        2.4   \n",
       "2  Age-standardised   1.7                        1.5   \n",
       "3  Age-standardised   2.8                        2.5   \n",
       "4  Age-standardised   2.5                        2.2   \n",
       "\n",
       "   upper_confidence_interval flag  \n",
       "0                        2.3  NaN  \n",
       "1                        2.8  NaN  \n",
       "2                        1.9  NaN  \n",
       "3                        3.2  NaN  \n",
       "4                        2.8  NaN  "
      ]
     },
     "execution_count": 4,
     "metadata": {},
     "output_type": "execute_result"
    }
   ],
   "source": [
    "df.head()"
   ]
  },
  {
   "cell_type": "markdown",
   "id": "e4c4914c-8731-4f8b-af4a-ff5308e72b21",
   "metadata": {},
   "source": [
    "*✅ The first few rows show cancer diagnosis records, including details on year, geography, cancer type, stage, demographics, and statistical indicators such as counts and rates.*"
   ]
  },
  {
   "cell_type": "code",
   "execution_count": 5,
   "id": "1445d513-207a-4dcc-a018-5868b0047866",
   "metadata": {},
   "outputs": [
    {
     "data": {
      "text/plain": [
       "(35030, 19)"
      ]
     },
     "execution_count": 5,
     "metadata": {},
     "output_type": "execute_result"
    }
   ],
   "source": [
    "df.shape"
   ]
  },
  {
   "cell_type": "markdown",
   "id": "037ec59a-5010-4230-8834-f082f7a97076",
   "metadata": {},
   "source": [
    "✅ *The dataset comprises 35,030 rows and 19 columns.*"
   ]
  },
  {
   "cell_type": "code",
   "execution_count": 7,
   "id": "e539ec6b-e03b-4748-9179-bd9e9b9c1bcf",
   "metadata": {},
   "outputs": [
    {
     "data": {
      "text/plain": [
       "Index(['diagnosisyear', 'geography_type', 'geography_code', 'geography_name',\n",
       "       'ndrs_main_group', 'ndrs_detailed_group', 'stage_at_diagnosis',\n",
       "       'imd_quintile', 'hormone_receptor', 'hormone_receptor_status', 'gender',\n",
       "       'age_at_diagnosis', 'count', 'Population', 'type_of_rate', 'rate',\n",
       "       'lower_confidence_interval', 'upper_confidence_interval', 'flag'],\n",
       "      dtype='object')"
      ]
     },
     "execution_count": 7,
     "metadata": {},
     "output_type": "execute_result"
    }
   ],
   "source": [
    "df.columns"
   ]
  },
  {
   "cell_type": "markdown",
   "id": "b5b0ca1d-7255-4e4d-879b-bda5c39f7841",
   "metadata": {},
   "source": [
    "✅ *The dataset includes variables capturing diagnosis year, geography, cancer type, stage, demographics, incidence counts, population, and rate estimates.*"
   ]
  },
  {
   "cell_type": "code",
   "execution_count": 8,
   "id": "9d6f284c-08ac-45fe-ba66-ef1f90345e3a",
   "metadata": {},
   "outputs": [
    {
     "name": "stdout",
     "output_type": "stream",
     "text": [
      "<class 'pandas.core.frame.DataFrame'>\n",
      "RangeIndex: 35030 entries, 0 to 35029\n",
      "Data columns (total 19 columns):\n",
      " #   Column                     Non-Null Count  Dtype  \n",
      "---  ------                     --------------  -----  \n",
      " 0   diagnosisyear              35030 non-null  int64  \n",
      " 1   geography_type             35030 non-null  object \n",
      " 2   geography_code             35030 non-null  object \n",
      " 3   geography_name             35030 non-null  object \n",
      " 4   ndrs_main_group            35030 non-null  object \n",
      " 5   ndrs_detailed_group        35030 non-null  object \n",
      " 6   stage_at_diagnosis         35030 non-null  object \n",
      " 7   imd_quintile               35030 non-null  object \n",
      " 8   hormone_receptor           690 non-null    object \n",
      " 9   hormone_receptor_status    690 non-null    object \n",
      " 10  gender                     35030 non-null  object \n",
      " 11  age_at_diagnosis           35030 non-null  object \n",
      " 12  count                      35030 non-null  int64  \n",
      " 13  Population                 35030 non-null  int64  \n",
      " 14  type_of_rate               35030 non-null  object \n",
      " 15  rate                       29792 non-null  float64\n",
      " 16  lower_confidence_interval  29792 non-null  float64\n",
      " 17  upper_confidence_interval  29792 non-null  float64\n",
      " 18  flag                       7195 non-null   object \n",
      "dtypes: float64(3), int64(3), object(13)\n",
      "memory usage: 5.1+ MB\n"
     ]
    }
   ],
   "source": [
    "df.info()"
   ]
  },
  {
   "cell_type": "markdown",
   "id": "a3c60d9c-0989-423c-99bb-804c661024a0",
   "metadata": {},
   "source": [
    "✅ *The dataset contains 35,030 rows and 19 columns. Out of these, 13 are categorical, 3 are integers (diagnosisyear, count, Population), and 3 are decimals (rate, lower_confidence_interval, upper_confidence_interval).*\n",
    "\n",
    "*Some fields are quite sparse:*\n",
    "\n",
    "*1)The hormone receptor fields are missing for almost the entire dataset (around 98% missing).*\n",
    "\n",
    "*2)The flag column is missing in nearly 80% of rows.*\n",
    "\n",
    "*The age_at_diagnosis column is stored as text, suggesting it may represent age bands rather than exact ages.*\n"
   ]
  },
  {
   "cell_type": "code",
   "execution_count": 9,
   "id": "e52514f8-c89e-44dc-a76b-ed9d07f49c85",
   "metadata": {},
   "outputs": [
    {
     "data": {
      "text/html": [
       "<div>\n",
       "<style scoped>\n",
       "    .dataframe tbody tr th:only-of-type {\n",
       "        vertical-align: middle;\n",
       "    }\n",
       "\n",
       "    .dataframe tbody tr th {\n",
       "        vertical-align: top;\n",
       "    }\n",
       "\n",
       "    .dataframe thead th {\n",
       "        text-align: right;\n",
       "    }\n",
       "</style>\n",
       "<table border=\"1\" class=\"dataframe\">\n",
       "  <thead>\n",
       "    <tr style=\"text-align: right;\">\n",
       "      <th></th>\n",
       "      <th>diagnosisyear</th>\n",
       "      <th>count</th>\n",
       "      <th>Population</th>\n",
       "      <th>rate</th>\n",
       "      <th>lower_confidence_interval</th>\n",
       "      <th>upper_confidence_interval</th>\n",
       "    </tr>\n",
       "  </thead>\n",
       "  <tbody>\n",
       "    <tr>\n",
       "      <th>count</th>\n",
       "      <td>35030.000000</td>\n",
       "      <td>35030.000000</td>\n",
       "      <td>3.503000e+04</td>\n",
       "      <td>29792.000000</td>\n",
       "      <td>29792.000000</td>\n",
       "      <td>29792.000000</td>\n",
       "    </tr>\n",
       "    <tr>\n",
       "      <th>mean</th>\n",
       "      <td>2017.500000</td>\n",
       "      <td>1497.867713</td>\n",
       "      <td>2.124806e+07</td>\n",
       "      <td>12.719364</td>\n",
       "      <td>12.260382</td>\n",
       "      <td>13.210795</td>\n",
       "    </tr>\n",
       "    <tr>\n",
       "      <th>std</th>\n",
       "      <td>2.872322</td>\n",
       "      <td>6697.796599</td>\n",
       "      <td>1.757073e+07</td>\n",
       "      <td>43.901143</td>\n",
       "      <td>43.332517</td>\n",
       "      <td>44.474403</td>\n",
       "    </tr>\n",
       "    <tr>\n",
       "      <th>min</th>\n",
       "      <td>2013.000000</td>\n",
       "      <td>0.000000</td>\n",
       "      <td>5.201813e+06</td>\n",
       "      <td>0.000000</td>\n",
       "      <td>0.000000</td>\n",
       "      <td>0.000000</td>\n",
       "    </tr>\n",
       "    <tr>\n",
       "      <th>25%</th>\n",
       "      <td>2015.000000</td>\n",
       "      <td>32.000000</td>\n",
       "      <td>5.650682e+06</td>\n",
       "      <td>0.500000</td>\n",
       "      <td>0.400000</td>\n",
       "      <td>0.700000</td>\n",
       "    </tr>\n",
       "    <tr>\n",
       "      <th>50%</th>\n",
       "      <td>2017.500000</td>\n",
       "      <td>166.000000</td>\n",
       "      <td>1.137309e+07</td>\n",
       "      <td>1.900000</td>\n",
       "      <td>1.700000</td>\n",
       "      <td>2.200000</td>\n",
       "    </tr>\n",
       "    <tr>\n",
       "      <th>75%</th>\n",
       "      <td>2020.000000</td>\n",
       "      <td>740.000000</td>\n",
       "      <td>2.830780e+07</td>\n",
       "      <td>7.700000</td>\n",
       "      <td>7.100000</td>\n",
       "      <td>8.300000</td>\n",
       "    </tr>\n",
       "    <tr>\n",
       "      <th>max</th>\n",
       "      <td>2022.000000</td>\n",
       "      <td>230968.000000</td>\n",
       "      <td>5.711254e+07</td>\n",
       "      <td>673.600000</td>\n",
       "      <td>666.700000</td>\n",
       "      <td>680.500000</td>\n",
       "    </tr>\n",
       "  </tbody>\n",
       "</table>\n",
       "</div>"
      ],
      "text/plain": [
       "       diagnosisyear          count    Population          rate  \\\n",
       "count   35030.000000   35030.000000  3.503000e+04  29792.000000   \n",
       "mean     2017.500000    1497.867713  2.124806e+07     12.719364   \n",
       "std         2.872322    6697.796599  1.757073e+07     43.901143   \n",
       "min      2013.000000       0.000000  5.201813e+06      0.000000   \n",
       "25%      2015.000000      32.000000  5.650682e+06      0.500000   \n",
       "50%      2017.500000     166.000000  1.137309e+07      1.900000   \n",
       "75%      2020.000000     740.000000  2.830780e+07      7.700000   \n",
       "max      2022.000000  230968.000000  5.711254e+07    673.600000   \n",
       "\n",
       "       lower_confidence_interval  upper_confidence_interval  \n",
       "count               29792.000000               29792.000000  \n",
       "mean                   12.260382                  13.210795  \n",
       "std                    43.332517                  44.474403  \n",
       "min                     0.000000                   0.000000  \n",
       "25%                     0.400000                   0.700000  \n",
       "50%                     1.700000                   2.200000  \n",
       "75%                     7.100000                   8.300000  \n",
       "max                   666.700000                 680.500000  "
      ]
     },
     "execution_count": 9,
     "metadata": {},
     "output_type": "execute_result"
    }
   ],
   "source": [
    "df.describe()"
   ]
  },
  {
   "cell_type": "markdown",
   "id": "be41b026-a9c2-431f-984f-12ec1e63407c",
   "metadata": {},
   "source": [
    "✅*The dataset covers cancer diagnoses from 2013 to 2022.*\n",
    "\n",
    "*Case counts range from 0 to 230,968, with most records showing relatively small numbers.*\n",
    "\n",
    "*Population figures span from about 5 million to 57 million, with a middle value around 11 million.*\n",
    "\n",
    "*The rate column shows how common cancer is in the population (cases per 100,000). Most rates are low, with a median of about 1.9, but a few records have much higher rates, reaching up to 673.6.*\n",
    "\n",
    "*The confidence interval columns show the likely range for the rate. Most values fall between 0.4 and 8.3, though a few extreme records have much higher ranges, above 600.*"
   ]
  },
  {
   "cell_type": "code",
   "execution_count": null,
   "id": "47f51885-ae63-4b9a-a4c3-faf4055ef9b1",
   "metadata": {},
   "outputs": [],
   "source": []
  },
  {
   "cell_type": "code",
   "execution_count": null,
   "id": "839b6c8a-b3ce-454d-9423-391a8ba64f55",
   "metadata": {},
   "outputs": [],
   "source": []
  }
 ],
 "metadata": {
  "kernelspec": {
   "display_name": "Python [conda env:base] *",
   "language": "python",
   "name": "conda-base-py"
  },
  "language_info": {
   "codemirror_mode": {
    "name": "ipython",
    "version": 3
   },
   "file_extension": ".py",
   "mimetype": "text/x-python",
   "name": "python",
   "nbconvert_exporter": "python",
   "pygments_lexer": "ipython3",
   "version": "3.12.7"
  }
 },
 "nbformat": 4,
 "nbformat_minor": 5
}
